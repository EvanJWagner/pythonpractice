{
 "cells": [
  {
   "cell_type": "markdown",
   "id": "fcfc591c",
   "metadata": {},
   "source": [
    "# Chapter 13 Exercises"
   ]
  },
  {
   "cell_type": "markdown",
   "id": "aa65f620",
   "metadata": {},
   "source": [
    "## Programming Exercises - Question 1"
   ]
  },
  {
   "cell_type": "markdown",
   "id": "35a1bdcc",
   "metadata": {},
   "source": [
    "The textbook asks us to write a GUI program that displays your name and address when a button is clicked. The program’s window should appear as the sketch on the left side of Figure 13-61 when it runs. When the user clicks the Show Info button, the program should display your name and address, as shown in the sketch on the right of the figure."
   ]
  },
  {
   "cell_type": "code",
   "execution_count": 7,
   "id": "964c1811",
   "metadata": {},
   "outputs": [],
   "source": [
    "import tkinter\n",
    "\n",
    "class MyGUI:\n",
    "    def __init__(self):\n",
    "        # Create the main window\n",
    "        self.main_window = tkinter.Tk()\n",
    "        \n",
    "        # Create StringVar objects to display name, address, city, state, and zip\n",
    "        self.name_value = tkinter.StringVar()\n",
    "        self.address_value = tkinter.StringVar()\n",
    "        self.csz_value = tkinter.StringVar()\n",
    "        \n",
    "        # Now create the info and button frames for the GUI\n",
    "        self.info_frame = tkinter.Frame(self.main_window)\n",
    "        self.button_frame = tkinter.Frame(self.main_window)\n",
    "        \n",
    "        # Create the label widgets for the StringVar objects from above\n",
    "        self.name_label = tkinter.Label(self.info_frame, \\\n",
    "                                       textvariable=self.name_value)\n",
    "        \n",
    "        self.address_label = tkinter.Label(self.info_frame, \\\n",
    "                                          textvariable=self.address_value)\n",
    "        \n",
    "        self.csz_label = tkinter.Label(self.info_frame, \\\n",
    "                                      textvariable=self.csz_value)\n",
    "        "
   ]
  },
  {
   "cell_type": "code",
   "execution_count": null,
   "id": "319f4da1",
   "metadata": {},
   "outputs": [],
   "source": []
  }
 ],
 "metadata": {
  "kernelspec": {
   "display_name": "Python 3 (ipykernel)",
   "language": "python",
   "name": "python3"
  },
  "language_info": {
   "codemirror_mode": {
    "name": "ipython",
    "version": 3
   },
   "file_extension": ".py",
   "mimetype": "text/x-python",
   "name": "python",
   "nbconvert_exporter": "python",
   "pygments_lexer": "ipython3",
   "version": "3.11.5"
  }
 },
 "nbformat": 4,
 "nbformat_minor": 5
}
