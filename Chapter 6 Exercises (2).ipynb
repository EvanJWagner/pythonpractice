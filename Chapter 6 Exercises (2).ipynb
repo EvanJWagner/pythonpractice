{
 "cells": [
  {
   "cell_type": "markdown",
   "id": "6821de7c",
   "metadata": {},
   "source": [
    "# Chapter 6 Exercises"
   ]
  },
  {
   "cell_type": "markdown",
   "id": "d6c1d0c8",
   "metadata": {},
   "source": [
    "## Algorithm Workbench - Question 1"
   ]
  },
  {
   "cell_type": "markdown",
   "id": "11138ac7",
   "metadata": {},
   "source": [
    " The textbook asks us to write a program that opens an output file with the filename , writes your name to the file, then closes the file. "
   ]
  },
  {
   "cell_type": "code",
   "execution_count": 6,
   "id": "66af4c9e",
   "metadata": {},
   "outputs": [],
   "source": [
    "# Open the output file \n",
    "myfile = open(\"my_name.txt\", \"w\")\n",
    "# Insert your name into the output file\n",
    "myfile.write(\"Evan Wagner\")\n",
    "# Close the file once your name has been inserted into it\n",
    "myfile.close()"
   ]
  },
  {
   "cell_type": "markdown",
   "id": "a18ea8a6",
   "metadata": {},
   "source": [
    "I first told the code to open a file named \"my_name.txt\", I then told it to write my name into the file. Once those two steps were completed I told the file to close."
   ]
  },
  {
   "cell_type": "markdown",
   "id": "a6ccb7b7",
   "metadata": {},
   "source": [
    "## Algorithm Workbench - Question 2"
   ]
  },
  {
   "cell_type": "markdown",
   "id": "7390cb77",
   "metadata": {},
   "source": [
    "The textbook asks us to write a program that opens the  file that was created by the program in problem 1, reads your name from the file, displays the name on the screen, then closes the file."
   ]
  },
  {
   "cell_type": "code",
   "execution_count": null,
   "id": "a9a3c2e7",
   "metadata": {},
   "outputs": [],
   "source": [
    "# Open up the output file from the first problem \n",
    "myfile = open(\"my_name.txt\", \"r\")\n",
    "# Read and store the name\n",
    "name = myfile.read()"
   ]
  }
 ],
 "metadata": {
  "kernelspec": {
   "display_name": "Python 3 (ipykernel)",
   "language": "python",
   "name": "python3"
  },
  "language_info": {
   "codemirror_mode": {
    "name": "ipython",
    "version": 3
   },
   "file_extension": ".py",
   "mimetype": "text/x-python",
   "name": "python",
   "nbconvert_exporter": "python",
   "pygments_lexer": "ipython3",
   "version": "3.11.5"
  }
 },
 "nbformat": 4,
 "nbformat_minor": 5
}
