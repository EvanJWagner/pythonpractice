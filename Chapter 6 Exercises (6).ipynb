{
 "cells": [
  {
   "cell_type": "markdown",
   "id": "146bc68d",
   "metadata": {},
   "source": [
    "# Chapter 6 Exercises"
   ]
  },
  {
   "cell_type": "markdown",
   "id": "29ec904d",
   "metadata": {},
   "source": [
    "## Algorithm Workbench - Question 1"
   ]
  },
  {
   "cell_type": "markdown",
   "id": "cd4bbe52",
   "metadata": {},
   "source": [
    " The textbook asks us to write a program that opens an output file with the filename , writes your name to the file, then closes the file. "
   ]
  },
  {
   "cell_type": "code",
   "execution_count": 6,
   "id": "6ef31387",
   "metadata": {},
   "outputs": [],
   "source": [
    "# Open the output file \n",
    "myfile = open(\"my_name.txt\", \"w\")\n",
    "# Insert your name into the output file\n",
    "myfile.write(\"Evan Wagner\")\n",
    "# Close the file once your name has been inserted into it\n",
    "myfile.close()"
   ]
  },
  {
   "cell_type": "markdown",
   "id": "6f73bc87",
   "metadata": {},
   "source": [
    "I first told the code to open a file named \"my_name.txt\", I then told it to write my name into the file. Once those two steps were completed I told the file to close."
   ]
  },
  {
   "cell_type": "markdown",
   "id": "9cac004e",
   "metadata": {},
   "source": [
    "## Algorithm Workbench - Question 2"
   ]
  },
  {
   "cell_type": "markdown",
   "id": "b63f14a0",
   "metadata": {},
   "source": [
    "The textbook asks us to write a program that opens the  file that was created by the program in problem 1, reads your name from the file, displays the name on the screen, then closes the file."
   ]
  },
  {
   "cell_type": "code",
   "execution_count": 7,
   "id": "0863ba52",
   "metadata": {},
   "outputs": [
    {
     "name": "stdout",
     "output_type": "stream",
     "text": [
      "Evan Wagner\n"
     ]
    }
   ],
   "source": [
    "# Open up the output file from the first problem \n",
    "myfile = open(\"my_name.txt\", \"r\")\n",
    "# Read and store the name\n",
    "name = myfile.read()\n",
    "# Print the stored name from the file\n",
    "print(name)\n",
    "# Close the file\n",
    "myfile.close()"
   ]
  },
  {
   "cell_type": "markdown",
   "id": "3e9580a2",
   "metadata": {},
   "source": [
    "I first told the code to open up the output file from the first problem that had the name stored in it. I then told it to read the name stored in the file and store it in this question. Next, I told the code to print the name that was stored. Finally I used the code to close the file once the name was printed."
   ]
  },
  {
   "cell_type": "markdown",
   "id": "00b28b5d",
   "metadata": {},
   "source": [
    "## Programming Exercise - Question 1"
   ]
  },
  {
   "cell_type": "markdown",
   "id": "763b7d86",
   "metadata": {},
   "source": [
    "The textbook asks us to assume a file containing a series of integers is named and exists on the computer’s disk. Write a program that displays all of the numbers in the file."
   ]
  },
  {
   "cell_type": "code",
   "execution_count": 5,
   "id": "6074020d",
   "metadata": {},
   "outputs": [
    {
     "name": "stdout",
     "output_type": "stream",
     "text": [
      "25\n",
      "5\n",
      "4\n",
      "3\n",
      "4\n",
      "5\n",
      "7\n",
      "7\n",
      "7\n",
      "6\n",
      "66\n",
      "87\n",
      "89\n",
      "6\n",
      "43\n",
      "56\n",
      "43\n",
      "23\n",
      "67\n",
      "8\n",
      "99\n",
      "97\n",
      "43\n",
      "22\n",
      "12\n",
      "12\n",
      "45\n",
      "67\n",
      "54\n",
      "67\n",
      "94\n",
      "57\n",
      "43\n",
      "67\n",
      "86\n",
      "3\n",
      "77\n",
      "3\n",
      "5\n",
      "77\n",
      "61\n",
      "39\n",
      "43\n"
     ]
    }
   ],
   "source": [
    "# Open the file\n",
    "myfile = open(\"numbers.txt\", \"r\")\n",
    "\n",
    "# Read and display the numbers on the file\n",
    "for line in myfile:\n",
    "    number = int(line)\n",
    "    print(number)\n",
    "    \n",
    "\n",
    "# Close the file\n",
    "myfile.close()"
   ]
  },
  {
   "cell_type": "markdown",
   "id": "b16c1370",
   "metadata": {},
   "source": [
    "I first used the code to open up the \"numbers.txt\" file I then went to my file explorer and entered some numbers into the file. I then saved the file and came back to the code which I then told the code to read each line and print the number on it. Finally, I used code that closes the \"numbers.txt\" file once the numbers are printed."
   ]
  },
  {
   "cell_type": "markdown",
   "id": "50fd0430",
   "metadata": {},
   "source": [
    "## Programming Exercise - Question 6"
   ]
  },
  {
   "cell_type": "markdown",
   "id": "17494cac",
   "metadata": {},
   "source": [
    "The textbook asks us to assume a file containing a series of integers is named and exists on the computer’s disk. Write a program that calculates the average of all the numbers stored in the file."
   ]
  },
  {
   "cell_type": "code",
   "execution_count": 25,
   "id": "275b9748",
   "metadata": {},
   "outputs": [],
   "source": [
    "def main():\n",
    "    \n",
    "    numbers = []\n",
    "    # Using a context manager at the end of a \"with\" block automatically closes the file\n",
    "    with open(\"numbers.txt\", \"r\") as file_numbers:\n",
    "\n",
    "        # Iterate through each line in the file\n",
    "        for line in file_numbers:\n",
    "            # Adding each number to the end of the numbers list\n",
    "            number = int(line)\n",
    "            numbers.append(number)\n",
    "    "
   ]
  },
  {
   "cell_type": "code",
   "execution_count": null,
   "id": "d05f3cd9",
   "metadata": {},
   "outputs": [],
   "source": []
  }
 ],
 "metadata": {
  "kernelspec": {
   "display_name": "Python 3 (ipykernel)",
   "language": "python",
   "name": "python3"
  },
  "language_info": {
   "codemirror_mode": {
    "name": "ipython",
    "version": 3
   },
   "file_extension": ".py",
   "mimetype": "text/x-python",
   "name": "python",
   "nbconvert_exporter": "python",
   "pygments_lexer": "ipython3",
   "version": "3.11.5"
  }
 },
 "nbformat": 4,
 "nbformat_minor": 5
}
