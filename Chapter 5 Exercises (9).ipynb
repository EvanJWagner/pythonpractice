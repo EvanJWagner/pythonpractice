{
 "cells": [
  {
   "cell_type": "markdown",
   "id": "1c33e85b",
   "metadata": {},
   "source": [
    "# Chapter 5 Exercises"
   ]
  },
  {
   "cell_type": "markdown",
   "id": "13813f43",
   "metadata": {},
   "source": [
    "## Algorithm Workbench - Question 1"
   ]
  },
  {
   "cell_type": "markdown",
   "id": "5ac3b4a8",
   "metadata": {},
   "source": [
    "The textbook asks us to make a function named \"times ten\" that should accept an argument and display the argument multiplied by 10."
   ]
  },
  {
   "cell_type": "code",
   "execution_count": 9,
   "id": "290d69ec",
   "metadata": {},
   "outputs": [
    {
     "name": "stdout",
     "output_type": "stream",
     "text": [
      "600\n"
     ]
    }
   ],
   "source": [
    "# Define the main function and the variables to get the final answer\n",
    "def main():\n",
    "    value = 60\n",
    "    times_ten(value)\n",
    "\n",
    "    \n",
    "# Define times_ten so the argument can be passed down to multiply by 10    \n",
    "def times_ten(number):\n",
    "    product = number * 10\n",
    "    print(product)\n",
    "    \n",
    "# Call the main function   \n",
    "main()"
   ]
  },
  {
   "cell_type": "markdown",
   "id": "543bed72",
   "metadata": {},
   "source": [
    "I used the \"main\" function so it would be able to be passed down to the \"times ten\" function so that once it gets ran it multiplies the argument and you can get the final answer once you call on it again."
   ]
  },
  {
   "cell_type": "markdown",
   "id": "eab88dd2",
   "metadata": {},
   "source": [
    "## Algorithm Workbench - Question 10"
   ]
  },
  {
   "cell_type": "markdown",
   "id": "965c6fa0",
   "metadata": {},
   "source": [
    "The texbook asks us to make a function that asks the user for their name and then it returns it to them."
   ]
  },
  {
   "cell_type": "code",
   "execution_count": 7,
   "id": "6295fd2f",
   "metadata": {},
   "outputs": [
    {
     "name": "stdout",
     "output_type": "stream",
     "text": [
      "Enter first name: Evan \n",
      "First Name is: Evan \n"
     ]
    }
   ],
   "source": [
    "# Define the function and ask the user for their first name\n",
    "def get_first_name():\n",
    "    # Ask the user for their first name\n",
    "    first_name = input(\"Enter first name: \")\n",
    "    # Store the user input \n",
    "    return first_name\n",
    "# Call the first name function and store the variable from the users input\n",
    "if __name__ == '__main__':\n",
    "    # Make sure the variable is stored and able to be returned\n",
    "    name = get_first_name()\n",
    "    # Print the user input that was stored\n",
    "    print(\"First Name is:\", name)  "
   ]
  },
  {
   "cell_type": "markdown",
   "id": "23400a43",
   "metadata": {},
   "source": [
    "I first defined the \"first name\" function so it allowed me to get the user input and then store it so I could call upon it later. I then called the first name function to which I then made sure the variable was stored. Finally, I told the function to print the user input that was stored."
   ]
  },
  {
   "cell_type": "markdown",
   "id": "9439742b",
   "metadata": {},
   "source": [
    "## Programming Exercises - Question 1"
   ]
  },
  {
   "cell_type": "markdown",
   "id": "261e9629",
   "metadata": {},
   "source": [
    "The textbook asks us to write a program that asks the user for a distance in kilometers and then it converts it to miles."
   ]
  },
  {
   "cell_type": "code",
   "execution_count": 1,
   "id": "b1bf414e",
   "metadata": {},
   "outputs": [
    {
     "name": "stdout",
     "output_type": "stream",
     "text": [
      "Enter a distance in kilometers: 4\n",
      "4.0 kilometers is equal to 2.4856 miles\n"
     ]
    }
   ],
   "source": [
    "# State the conversion factor \n",
    "conversion_factor = 0.6214\n",
    "\n",
    "# Define the main function\n",
    "def main():\n",
    "    # Ask the user for a distance in kilometers\n",
    "    kilometers = float(input(\"Enter a distance in kilometers: \"))\n",
    "    \n",
    "    # Display the distance from the user input in miles\n",
    "    show_miles(kilometers)\n",
    "    \n",
    "# Define the show miles function that allows you to convert   \n",
    "def show_miles(km):\n",
    "    # Use the conversion factor variable to multiply the users input\n",
    "    miles = km * conversion_factor\n",
    "    \n",
    "    # Print the final calcualtion of the user input that displays the converted number\n",
    "    print(km, \"kilometers is equal to\" , miles , \"miles\") \n",
    "\n",
    "    \n",
    "main()"
   ]
  },
  {
   "cell_type": "markdown",
   "id": "31ad1bf6",
   "metadata": {},
   "source": [
    "I first created the variable for the conversion factor. I then defined the main function and asksed the user for a distance in kilometers. Once the user inputs a distance the function then stores the input which then gets entered in the conversion problem This uses the conversion factor variable. Finally I used the print function to state the final conversion from the users input that restates the users input and what it is equal to in miles."
   ]
  },
  {
   "cell_type": "markdown",
   "id": "c4a52ae3",
   "metadata": {},
   "source": [
    "## Programming Exercises - Question 16"
   ]
  },
  {
   "cell_type": "markdown",
   "id": "44e81e8e",
   "metadata": {},
   "source": [
    "The textbook asks us to create a boolean function that can determine wether or not the user input number is a prime number."
   ]
  },
  {
   "cell_type": "code",
   "execution_count": 22,
   "id": "ebbf3986",
   "metadata": {},
   "outputs": [
    {
     "name": "stdout",
     "output_type": "stream",
     "text": [
      "Enter an integer: 100\n",
      "False\n"
     ]
    }
   ],
   "source": [
    "# Define the is_prime function\n",
    "def is_prime(n):\n",
    "    # If the input is greater than 1 for i in range of 2 to n\n",
    "    if n > 1:\n",
    "        for i in range(2,n):\n",
    "            if (n % i) == 0 :\n",
    "                # If it meets these requirements the function will return false and end\n",
    "                return False\n",
    "                break\n",
    "        # If not than the function will return true meaning then user input is a prime number\n",
    "        else:\n",
    "            return True\n",
    "\n",
    "    else:\n",
    "        return False\n",
    "# Define the variable \"n\" as the user input to see if it is prime or not\n",
    "n = int(input(\"Enter an integer: \"))\n",
    "# Print the number that was input by user and print if it is a prime number or not\n",
    "print(is_prime(n))"
   ]
  },
  {
   "cell_type": "markdown",
   "id": "e3d7fcc2",
   "metadata": {},
   "source": [
    "I first defined the \"is_prime\" function to make sure that the users input could be stored and eventually figured out to be prime or not. I then put in the requirements so that the code can figure out if the user input is prime. Which after the number is figured out to be prime or not the function will either return false or true depending on if it was prime or not. At the bottom I also made sure to define the variable n so that it could be used as the user input in the code. Then finally I told the code to print the user input number and wether it is prime or is not prime."
   ]
  },
  {
   "cell_type": "code",
   "execution_count": null,
   "id": "bded6341",
   "metadata": {},
   "outputs": [],
   "source": []
  }
 ],
 "metadata": {
  "kernelspec": {
   "display_name": "Python 3 (ipykernel)",
   "language": "python",
   "name": "python3"
  },
  "language_info": {
   "codemirror_mode": {
    "name": "ipython",
    "version": 3
   },
   "file_extension": ".py",
   "mimetype": "text/x-python",
   "name": "python",
   "nbconvert_exporter": "python",
   "pygments_lexer": "ipython3",
   "version": "3.11.5"
  }
 },
 "nbformat": 4,
 "nbformat_minor": 5
}
