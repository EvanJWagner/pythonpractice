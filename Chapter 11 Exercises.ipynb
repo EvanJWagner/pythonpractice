{
 "cells": [
  {
   "cell_type": "markdown",
   "id": "db695969",
   "metadata": {},
   "source": [
    "# Chapter 11 Exercises"
   ]
  },
  {
   "cell_type": "markdown",
   "id": "5966327d",
   "metadata": {},
   "source": [
    "## Programming Exercises - Question 1"
   ]
  },
  {
   "cell_type": "markdown",
   "id": "e2494684",
   "metadata": {},
   "source": [
    "The textbook asks us to write an class that keeps data attributes for the following pieces of information:  Employee nameEmployee numberNext, write a class named  that is a subclass of the  class. The  class should keep data attributes for the following information:  Shift number (an integer, such as 1, 2, or 3)Hourly pay rateThe workday is divided into two shifts: day and night. The shift attribute will hold an integer value representing the shift that the employee works. The day shift is shift 1 and the night shift is shift 2. Write the appropriate accessor and mutator methods for each class.Once you have written the classes, write a program that creates an object of the  class and prompts the user to enter data for each of the object’s data attributes. Store the data in the object, then use the object’s accessor methods to retrieve it and display it on the screen."
   ]
  },
  {
   "cell_type": "code",
   "execution_count": 1,
   "id": "696ac17a",
   "metadata": {},
   "outputs": [
    {
     "name": "stdout",
     "output_type": "stream",
     "text": [
      "Name: Wes Newton\n",
      "Employee Number: 234\n",
      "Shift Number (1 or 2): 2\n",
      "Hourly Pay Rate: 32\n",
      "Employee Information\n",
      "---------------------\n",
      "Name:  Wes Newton\n",
      "Employee Number:  234\n",
      "Shift Number:  2\n",
      "Hourly Pay Rate:  32.0\n"
     ]
    }
   ],
   "source": [
    "import employee\n",
    "\n",
    "# Get the employees information\n",
    "\n",
    "name = input(\"Name: \")\n",
    "employee_number = input(\"Employee Number: \") \n",
    "shift_number = int(input(\"Shift Number (1 or 2): \"))\n",
    "pay_rate = float(input(\"Hourly Pay Rate: \"))\n",
    "\n",
    "    \n",
    "# Create an instance of the employee class\n",
    "my_employee = employee.ProductionWorker(name, employee_number, shift_number, pay_rate)\n",
    "\n",
    "\n",
    "# Display the employees data\n",
    "print(\"Employee Information\")\n",
    "print(\"---------------------\")\n",
    "print(\"Name: \", my_employee.get_name())\n",
    "print(\"Employee Number: \", my_employee.get_employee_number())\n",
    "print(\"Shift Number: \", my_employee.get_shift_number())\n",
    "print(\"Hourly Pay Rate: \", my_employee.get_pay_rate())"
   ]
  },
  {
   "cell_type": "markdown",
   "id": "f0baaeb0",
   "metadata": {},
   "source": [
    "## Programming Exercises - Question 3"
   ]
  },
  {
   "cell_type": "markdown",
   "id": "168bd115",
   "metadata": {},
   "source": [
    "The textbook asks us to write a class named  with data attributes for a person’s name, address, and telephone number. Next, write a class named  that is a subclass of the  class. The  class should have a data attribute for a customer number, and a Boolean data attribute indicating whether the customer wishes to be on a mailing list. Demonstrate an instance of the  class in a simple program."
   ]
  },
  {
   "cell_type": "code",
   "execution_count": null,
   "id": "8e89379d",
   "metadata": {},
   "outputs": [],
   "source": []
  }
 ],
 "metadata": {
  "kernelspec": {
   "display_name": "Python 3 (ipykernel)",
   "language": "python",
   "name": "python3"
  },
  "language_info": {
   "codemirror_mode": {
    "name": "ipython",
    "version": 3
   },
   "file_extension": ".py",
   "mimetype": "text/x-python",
   "name": "python",
   "nbconvert_exporter": "python",
   "pygments_lexer": "ipython3",
   "version": "3.11.5"
  }
 },
 "nbformat": 4,
 "nbformat_minor": 5
}
