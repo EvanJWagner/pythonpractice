{
 "cells": [
  {
   "cell_type": "markdown",
   "id": "00d7df6e",
   "metadata": {},
   "source": [
    "# Chapter 8 Exercises"
   ]
  },
  {
   "cell_type": "markdown",
   "id": "7c6c5697",
   "metadata": {},
   "source": [
    "## Algorithm Workbench - Question 2"
   ]
  },
  {
   "cell_type": "markdown",
   "id": "fa1afab3",
   "metadata": {},
   "source": [
    "The textbook asks us to write a loop that counts the number of space characters that appear in the string referenced by \"mystring\"."
   ]
  },
  {
   "cell_type": "code",
   "execution_count": 16,
   "id": "0399c3cf",
   "metadata": {},
   "outputs": [
    {
     "name": "stdout",
     "output_type": "stream",
     "text": [
      "Number of space characters in the string: 5\n"
     ]
    }
   ],
   "source": [
    "# Define the \"mystring\" variable\n",
    "my_string = \"This is a string with spaces.\"\n",
    "# Tell the program to count the spaces in the variable\n",
    "count_spaces = 0\n",
    "# Tell the program that for every space count up \n",
    "for char in my_string:\n",
    "\n",
    "    if char == \" \":\n",
    "       # Count up by one everytime there is a space\n",
    "       count_spaces += 1\n",
    "# Print the number of spaces in the string and tell the user\n",
    "print(\"Number of space characters in the string:\", count_spaces)"
   ]
  },
  {
   "cell_type": "markdown",
   "id": "d7a97f9d",
   "metadata": {},
   "source": [
    "I first defined the \"mystring\" variable. I then used the program to count the amount of spaces in the string. Next, I told the program to count the amount of spaces up by 1 everytime there is a space in the string. Finally, the program tells the user the number of spaces in the string by using the print function."
   ]
  },
  {
   "cell_type": "markdown",
   "id": "b3ec1dc9",
   "metadata": {},
   "source": [
    "## Algorithm Workbench - Question 3"
   ]
  },
  {
   "cell_type": "markdown",
   "id": "ee51eaec",
   "metadata": {},
   "source": [
    "The textbook asks us to write a loop that counts the number of digits that appear in the string referenced by \"mystring\"."
   ]
  },
  {
   "cell_type": "code",
   "execution_count": 27,
   "id": "8232391a",
   "metadata": {},
   "outputs": [
    {
     "name": "stdout",
     "output_type": "stream",
     "text": [
      "Number of digits: 10\n"
     ]
    }
   ],
   "source": [
    "# Define the \"mystring\" variable\n",
    "my_string = \"e4o9f3kfifdo383db474g0\"\n",
    "# Tell the program to count the digits in the variable\n",
    "digit_count = 0\n",
    "# Tell the program that for every digit count up\n",
    "for char in my_string:\n",
    "\n",
    "   if char.isdigit():\n",
    "       # Count up everytime there is a digit in the string\n",
    "       digit_count += 1\n",
    "# Print the number of digits in the string and tell the user\n",
    "print(\"Number of digits:\", digit_count)"
   ]
  },
  {
   "cell_type": "markdown",
   "id": "aec150f8",
   "metadata": {},
   "source": [
    "I first defined the \"mystring\" variable. I then used the program to count the amount of digits in the string. Next, I told the program to count the amount of digits up by 1 everytime there is a number in the string. Finally, the program tells the user the number of digits in the string by using the print function."
   ]
  },
  {
   "cell_type": "markdown",
   "id": "38e12aed",
   "metadata": {},
   "source": [
    "## Programming Exercises - Question 1"
   ]
  },
  {
   "cell_type": "markdown",
   "id": "365b9012",
   "metadata": {},
   "source": [
    "The textbook asks us write a program that gets a string containing a person’s first, middle, and last names, and displays their first, middle, and last initials. "
   ]
  },
  {
   "cell_type": "code",
   "execution_count": 35,
   "id": "cd0da5a7",
   "metadata": {},
   "outputs": [
    {
     "name": "stdout",
     "output_type": "stream",
     "text": [
      ".Enter your full name, first, middle, and last: Evan Joseph Wagner\n",
      "EJW"
     ]
    }
   ],
   "source": [
    "# Define and call the main function\n",
    "def main():     \n",
    "    # Ask the user for their name     \n",
    "    full_name = input (\"Enter your full name, first, middle, and last: \")      \n",
    "    # Split the string according to spaces between the users name    \n",
    "    name = full_name.split()      \n",
    "    # The first character of each name is an initial     \n",
    "    for string in name:         print(string[0].upper(), sep='', end='')         \n",
    "print('.', sep=' ', end='')  \n",
    "# Call the main function. \n",
    "main()"
   ]
  },
  {
   "cell_type": "markdown",
   "id": "7c21b84a",
   "metadata": {},
   "source": [
    "I first called the main function. Then, I used the program to ask the user for ther full name. The program then splits the string by taking the intials of their name. It then prints their initials depending on the input of the user. Finally, I called upon the main function one last time."
   ]
  },
  {
   "cell_type": "markdown",
   "id": "3c6cfb2b",
   "metadata": {},
   "source": [
    "## Programming Exercises - Question 2"
   ]
  },
  {
   "cell_type": "markdown",
   "id": "810d5d03",
   "metadata": {},
   "source": [
    "The textbook asks us to write a program that asks the user to enter a series of single-digit numbers with nothing separating them. The program should display the sum of all the single digit numbers in the string."
   ]
  },
  {
   "cell_type": "code",
   "execution_count": null,
   "id": "5d01cf2d",
   "metadata": {},
   "outputs": [],
   "source": [
    "# Define the variable and ask the user for a series of single digit numbers\n",
    "digits_string = input(\"Enter a series of single-digit numbers: \")\n",
    "sum_of_digits = 0\n"
   ]
  },
  {
   "cell_type": "code",
   "execution_count": null,
   "id": "ce1912f5",
   "metadata": {},
   "outputs": [],
   "source": []
  }
 ],
 "metadata": {
  "kernelspec": {
   "display_name": "Python 3 (ipykernel)",
   "language": "python",
   "name": "python3"
  },
  "language_info": {
   "codemirror_mode": {
    "name": "ipython",
    "version": 3
   },
   "file_extension": ".py",
   "mimetype": "text/x-python",
   "name": "python",
   "nbconvert_exporter": "python",
   "pygments_lexer": "ipython3",
   "version": "3.11.5"
  }
 },
 "nbformat": 4,
 "nbformat_minor": 5
}
