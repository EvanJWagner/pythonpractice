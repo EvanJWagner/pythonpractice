{
 "cells": [
  {
   "cell_type": "markdown",
   "id": "b3deabda",
   "metadata": {},
   "source": [
    "# Chapter 13 Exercises"
   ]
  },
  {
   "cell_type": "markdown",
   "id": "91aafb82",
   "metadata": {},
   "source": [
    "## Programming Exercises - Question 1"
   ]
  },
  {
   "cell_type": "markdown",
   "id": "63bc7c5a",
   "metadata": {},
   "source": [
    "The textbook asks us to write a GUI program that displays your name and address when a button is clicked. The program’s window should appear as the sketch on the left side of Figure 13-61 when it runs. When the user clicks the Show Info button, the program should display your name and address, as shown in the sketch on the right of the figure."
   ]
  },
  {
   "cell_type": "code",
   "execution_count": 8,
   "id": "7c867e49",
   "metadata": {},
   "outputs": [],
   "source": [
    "import tkinter\n",
    "\n",
    "class MyGUI:\n",
    "    def __init__(self):\n",
    "        # Create the main window\n",
    "        self.main_window = tkinter.Tk()\n",
    "        \n",
    "        # Create StringVar objects to display name, address, city, state, and zip\n",
    "        self.name_value = tkinter.StringVar()\n",
    "        self.address_value = tkinter.StringVar()\n",
    "        self.csz_value = tkinter.StringVar()\n",
    "        \n",
    "        # Now create the info and button frames for the GUI\n",
    "        self.info_frame = tkinter.Frame(self.main_window)\n",
    "        self.button_frame = tkinter.Frame(self.main_window)\n",
    "        \n",
    "        # Create the label widgets for the StringVar objects from above\n",
    "        self.name_label = tkinter.Label(self.info_frame, \\\n",
    "                                       textvariable=self.name_value)\n",
    "        \n",
    "        self.address_label = tkinter.Label(self.info_frame, \\\n",
    "                                          textvariable=self.address_value)\n",
    "        \n",
    "        self.csz_label = tkinter.Label(self.info_frame, \\\n",
    "                                      textvariable=self.csz_value)\n",
    "                # Pack the labels\n",
    "        self.name_label.pack()\n",
    "        self.address_label.pack()\n",
    "        self.csz_label.pack()\n",
    "        \n",
    "        # Create the button widgets for the GUI\n",
    "        self.show_info_button = tkinter.Button(self.button_frame, \\\n",
    "                                              text=\"Show Info\", \\\n",
    "                                              command=self.show)\n",
    "        \n",
    "        \n",
    "        self.quit_button = tkinter.Button(self.button_frame, \\\n",
    "                                         text=\"Quit\", \\\n",
    "                                         command=self.main_window.destroy)\n",
    "        \n",
    "        # Pack the buttons\n",
    "        self.show_info_button.pack(side=\"left\")\n",
    "        self.quit_button.pack(side=\"right\")\n",
    "        \n",
    "        # Pack the frames\n",
    "        self.info_frame.pack()\n",
    "        self.button_frame.pack()\n",
    "        \n",
    "        # Enter the tkinter into the main loop\n",
    "        tkinter.mainloop()\n",
    "        \n",
    "    # Callback function for the show info button\n",
    "    def show(self):    \n",
    "        self.name_value.set(\"Evan Wagner\")\n",
    "        self.address_value.set(\"123 Main Street\")\n",
    "        self.csz_value.set(\"Lansing, MI, 44444\")\n",
    "        \n",
    "# Create an instance of the MyGUI class\n",
    "my_gui = MyGUI()"
   ]
  },
  {
   "cell_type": "code",
   "execution_count": null,
   "id": "b6e74ff9",
   "metadata": {},
   "outputs": [],
   "source": []
  }
 ],
 "metadata": {
  "kernelspec": {
   "display_name": "Python 3 (ipykernel)",
   "language": "python",
   "name": "python3"
  },
  "language_info": {
   "codemirror_mode": {
    "name": "ipython",
    "version": 3
   },
   "file_extension": ".py",
   "mimetype": "text/x-python",
   "name": "python",
   "nbconvert_exporter": "python",
   "pygments_lexer": "ipython3",
   "version": "3.11.5"
  }
 },
 "nbformat": 4,
 "nbformat_minor": 5
}
