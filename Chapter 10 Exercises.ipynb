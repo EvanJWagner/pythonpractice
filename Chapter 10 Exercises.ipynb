{
 "cells": [
  {
   "cell_type": "markdown",
   "id": "2ae851a4",
   "metadata": {},
   "source": [
    "# Chapter 10 Exercises"
   ]
  },
  {
   "cell_type": "markdown",
   "id": "f41b639f",
   "metadata": {},
   "source": [
    "## Programming Exercises - Question 1"
   ]
  },
  {
   "cell_type": "markdown",
   "id": "7709aedf",
   "metadata": {},
   "source": [
    "The textbook asks us to write a program that creates an object of the class and prompts the user to enter the name, type, and age of his or her pet. This data should be stored as the object’s attributes. Use the object’s accessor methods to retrieve the pet’s name, type, and age and display this data on the screen."
   ]
  },
  {
   "cell_type": "code",
   "execution_count": 8,
   "id": "de60352e",
   "metadata": {},
   "outputs": [
    {
     "name": "stdout",
     "output_type": "stream",
     "text": [
      "What is your pets name?: Roofus\n",
      "What kind of animal is your pet?: Dog\n",
      "How old is your pet?: 3\n",
      "Pet name is Roofus\n",
      "Pet type is Dog\n",
      "Pet age is 3.0\n"
     ]
    }
   ],
   "source": [
    "# The pet class represents a pet\n",
    "class Pet:\n",
    "    # The __init__ method initializes attributes\n",
    "    def __init__(self, name, animal_type, age):\n",
    "        self.__name = name\n",
    "        self.__animal_type = animal_type\n",
    "        self.__age = age\n",
    "    # The set_name method sets the pets name\n",
    "    def set_name(self, name):\n",
    "        self.__name = name\n",
    "    # The set_animal_type method sets the pet's type\n",
    "    def set_animal_type(self, animal_type):\n",
    "        self.__animal_type = animal_type\n",
    "    # The set_age method sets the pets age\n",
    "    def set_age(self, age):\n",
    "        self.__age = age\n",
    "    # The get_name method returns the pets name to the user  \n",
    "    def get_name(self):\n",
    "        return self.__name\n",
    "    # The get_age method returns the pets age to the user\n",
    "    def get_age(self):\n",
    "        return self.__age\n",
    "    # The get_animal_type method returns the pets type to the user\n",
    "    def get_animal_type(self):\n",
    "        return self.__animal_type\n",
    "\n",
    " \n",
    "def main():\n",
    "    # Now ask the user for their pets attributes\n",
    "    pet_name = input(\"What is your pets name?: \")\n",
    "    pet_type = input(\"What kind of animal is your pet?: \")\n",
    "    pet_age = float(input(\"How old is your pet?: \"))\n",
    "    \n",
    "    # Create an instance for the pet class created above\n",
    "    my_pet = Pet(pet_name, pet_type, pet_age)\n",
    "    \n",
    "    # Return the pet attributes back to the user\n",
    "    print(\"Pet name is\", my_pet.get_name())\n",
    "    print(\"Pet type is\", my_pet.get_animal_type())\n",
    "    print(\"Pet age is\", my_pet.get_age())\n",
    "    \n",
    "main() "
   ]
  },
  {
   "cell_type": "markdown",
   "id": "6905b231",
   "metadata": {},
   "source": [
    "## Programming Exercises - Question 3"
   ]
  },
  {
   "cell_type": "markdown",
   "id": "b5f971ac",
   "metadata": {},
   "source": [
    "The textbook asks us to design a class that holds the following personal data: name, address, age, and phone number. Write appropriate accessor and mutator methods. Also, write a program that creates three instances of the class. Each instance should hold fictional information for a fake person. "
   ]
  },
  {
   "cell_type": "code",
   "execution_count": 12,
   "id": "55b7baba",
   "metadata": {},
   "outputs": [],
   "source": [
    "# The personal data class that represents an individual\n",
    "class PersonalData:\n",
    "    # __init__ method intializes attributes\n",
    "    def __init__(self, name, address, age, phone_number):\n",
    "        self.__name = name\n",
    "        self.__address = address\n",
    "        self.__age = age\n",
    "        self.__phone_number = phone_number\n",
    "    # The get_name method returns the indivdiual's name\n",
    "    def get_name(self):\n",
    "        return self.__name\n",
    "    # The set_name method sets the individual's name\n",
    "    def set_name(self, name):\n",
    "        self.__name = name\n",
    "    # The get_address method returns the individual's address\n",
    "    def get_address(self):\n",
    "        return self.__address\n",
    "    # The set address method sets the individual's address\n",
    "    def set_address(self, address):\n",
    "        self.__address = address\n",
    "    # The get_age method returns the indivdiual's age\n",
    "    def get_age(self):\n",
    "        return self.__age\n",
    "    # The set_age method sets the individual's age\n",
    "    def set_age(self, age):\n",
    "        self.__age = age\n",
    "    # The get_address method returns the individual's phone number\n",
    "    def get_phone_number(self):\n",
    "        return self.__phone_number\n",
    "    # The set address method sets the individual's phone number\n",
    "    def set_phone_number(self, phone_number):\n",
    "        self.__phone_number = phone_number\n",
    "        \n"
   ]
  },
  {
   "cell_type": "code",
   "execution_count": null,
   "id": "255921fb",
   "metadata": {},
   "outputs": [],
   "source": []
  }
 ],
 "metadata": {
  "kernelspec": {
   "display_name": "Python 3 (ipykernel)",
   "language": "python",
   "name": "python3"
  },
  "language_info": {
   "codemirror_mode": {
    "name": "ipython",
    "version": 3
   },
   "file_extension": ".py",
   "mimetype": "text/x-python",
   "name": "python",
   "nbconvert_exporter": "python",
   "pygments_lexer": "ipython3",
   "version": "3.11.5"
  }
 },
 "nbformat": 4,
 "nbformat_minor": 5
}
