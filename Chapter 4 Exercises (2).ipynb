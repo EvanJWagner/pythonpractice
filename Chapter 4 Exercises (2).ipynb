{
 "cells": [
  {
   "cell_type": "markdown",
   "id": "902d7cda",
   "metadata": {},
   "source": [
    "# Chapter 4 Exercises"
   ]
  },
  {
   "cell_type": "markdown",
   "id": "a2ac66a6",
   "metadata": {},
   "source": [
    "## Algorithm Workbench - Question 2"
   ]
  },
  {
   "cell_type": "markdown",
   "id": "9e927c7a",
   "metadata": {},
   "source": [
    "The textbook asks us to use a while loop, which asks the user to enter 2 numbers to which them the sum of the two numbers is displayed. After this the program should ask the user to continue or to terminate the loop."
   ]
  },
  {
   "cell_type": "code",
   "execution_count": 4,
   "id": "66394240",
   "metadata": {},
   "outputs": [
    {
     "name": "stdout",
     "output_type": "stream",
     "text": [
      "Please enter the first number:1\n",
      "Please enter the second number:1\n",
      "The sum of the two numbers is: 2\n",
      "Do you wish to continue? (Yes or no):yes\n",
      "Please enter the first number:1\n",
      "Please enter the second number:2\n",
      "The sum of the two numbers is: 5\n",
      "Do you wish to continue? (Yes or no):no\n",
      "Thank you, goodbye\n"
     ]
    }
   ],
   "source": [
    "result = 0\n",
    "while True:\n",
    "    # Ask the user for their 2 numbers\n",
    "    number1 = int(input(\"Please enter the first number:\"))\n",
    "    number2 = int(input(\"Please enter the second number:\"))\n",
    "    # Add the two user numbers together\n",
    "    result += number1 + number2\n",
    "    # Print the sum of the two numbers back to the user\n",
    "    print(\"The sum of the two numbers is:\" , result)\n",
    "    # Ask the user if they wish to continue\n",
    "    cont = input(\"Do you wish to continue? (Yes or no):\"). lower()\n",
    "    # If user wishes to continue keep continuing the loop\n",
    "    if cont == \"yes\":\n",
    "        continue \n",
    "    # If the user does not wish to continue, terminate the loop\n",
    "    elif cont == \"no\":\n",
    "        print(\"Thank you, goodbye\")\n",
    "    break"
   ]
  },
  {
   "cell_type": "markdown",
   "id": "d2b66ad4",
   "metadata": {},
   "source": [
    "I put in the code to ask the user for two numbers using the input function. I then made the code combine those two numbers to get the sum and then the code prints it out for the user. After that I then used the code to ask the user if they wish to continue which then would continue the program if they answer yes but if they were to answer no it terminates the loop. "
   ]
  },
  {
   "cell_type": "markdown",
   "id": "162cea63",
   "metadata": {},
   "source": [
    "## Algorithm Workbench - Question 4"
   ]
  },
  {
   "cell_type": "markdown",
   "id": "2fddab51",
   "metadata": {},
   "source": [
    "The textbook asks us to create a loop that asks the user to enter a number 10 times and keep a running total of all the numbers."
   ]
  },
  {
   "cell_type": "code",
   "execution_count": 1,
   "id": "5b8b22de",
   "metadata": {},
   "outputs": [
    {
     "name": "stdout",
     "output_type": "stream",
     "text": [
      "Enter a number:2\n",
      "Enter a number:7\n",
      "Enter a number:5\n",
      "Enter a number:4\n",
      "Enter a number:3\n",
      "Enter a number:5\n",
      "Enter a number:7\n",
      "Enter a number:8\n",
      "Enter a number:9\n",
      "Enter a number:9\n",
      "The total of your 10 numbers is: 59.0\n"
     ]
    }
   ],
   "source": [
    "num = 0\n",
    "for i in range(10):\n",
    "    # Ask the user to enter 10 numbers\n",
    "    num += float(input(\"Enter a number:\"))\n",
    "    \n",
    "    # Print the users total of all their 10 numbers entered\n",
    "print(\"The total of your 10 numbers is:\" , num)"
   ]
  },
  {
   "cell_type": "markdown",
   "id": "c6f0bc92",
   "metadata": {},
   "source": [
    " I used the code that allows a range of 10 numbers to be entered by the user. I then ask the user for their numbers which uses the \"float\" and \"input\" functions allowing for the user to enter the numbers one after another. I then tell the user their sum of all their 10 numbers by using the print function."
   ]
  },
  {
   "cell_type": "markdown",
   "id": "392d29ca",
   "metadata": {},
   "source": [
    "## Programming Exercise - Question 1 Bug Collector"
   ]
  },
  {
   "cell_type": "markdown",
   "id": "c7908146",
   "metadata": {},
   "source": [
    "The textbook asks us to create a loop that asks the user for a number of bugs for a period of 5 days. At the end of the 5 days the sum of the bugs or the 5 days should be shown."
   ]
  },
  {
   "cell_type": "code",
   "execution_count": 13,
   "id": "f5c639a8",
   "metadata": {},
   "outputs": [
    {
     "name": "stdout",
     "output_type": "stream",
     "text": [
      "How many bugs collected on day 1: 2\n",
      "How many bugs collected on day 2: 8\n",
      "How many bugs collected on day 3: 4\n",
      "How many bugs collected on day 4: 1\n",
      "How many bugs collected on day 5: 6\n",
      "Total number of bugs collected for 5 days = 21\n"
     ]
    }
   ],
   "source": [
    "# Lay out number of days in one bug collecting cycle\n",
    "days_in_cycle = 5\n",
    "# Lay out how many are collected each day\n",
    "dailyCollection = 0\n",
    "# Lay out how many are collect over entire period\n",
    "total5DayCollection = 0\n",
    "# When calculation is over know what to print for final number of bugs\n",
    "finalbug = ''\n",
    "\n",
    "# Now input the days in cycle which was listed above\n",
    "for day in range(days_in_cycle):\n",
    "\n",
    "    # Ask user how many bugs were collected on each day\n",
    "    dailyCollection = int(input(\"How many bugs collected on day \" + format(day + 1) + ': '))\n",
    "\n",
    "    # Calculation of daily collection ends up equaling total number over cycle\n",
    "    total5DayCollection += dailyCollection\n",
    "\n",
    "# Print the ending calcualtion for how many bugs were collected over the 5 day cycle\n",
    "finalbug = 'Total number of bugs collected for 5 days = ' + format(total5DayCollection);\n",
    "\n",
    "print(finalbug)"
   ]
  },
  {
   "cell_type": "markdown",
   "id": "d1b9c11b",
   "metadata": {},
   "source": [
    " I first laid out variables to make the code easier to understand. I then laid out the range of the 5 day bug collecting cycle.\n",
    " Next, I asked the user with the \"input\" function how many bugs were collected on each day. Finally the code that I entered calculates the sum over the 5 days cycle of bug collecting. After the calculation is over I enter code that prints the final number of bugs."
   ]
  },
  {
   "cell_type": "markdown",
   "id": "f630a339",
   "metadata": {},
   "source": [
    "## Programming Exercise - Question 4"
   ]
  },
  {
   "cell_type": "markdown",
   "id": "fcc63a8b",
   "metadata": {},
   "source": [
    "The textbook asks us to enter in code that calculates input from the user that involves miles per hour. The user inputs both those variable which then it calculates the amount of miles driven each hour."
   ]
  },
  {
   "cell_type": "code",
   "execution_count": 15,
   "id": "218d89a0",
   "metadata": {},
   "outputs": [
    {
     "name": "stdout",
     "output_type": "stream",
     "text": [
      "Enter the speed: 40\n",
      "Enter the hours: 4\n",
      "\n",
      "Hour    Distance Traveled\n",
      "-------------------------\n",
      "1    40\n",
      "2    80\n",
      "3    120\n",
      "4    160\n",
      "\n"
     ]
    }
   ],
   "source": [
    "# Ask the user for the speed\n",
    "speed = int(input(\"Enter the speed: \"))\n",
    "# Make sure the speed the user entered is a positive number\n",
    "while speed < 0:\n",
    "    # If not display this error message\n",
    "    speed = int(input(\"Error: Enter a positve number: \"))\n",
    "\n",
    "hours = int(input(\"Enter the hours: \"))\n",
    "# Make sure the hours the user entered is a postive number\n",
    "while hours < 0:\n",
    "    # If not display this error message\n",
    "    hours = int(input(\"Error: Enter a positve number: \"))\n",
    "\n",
    "distance = 0\n",
    "\n",
    "# Create the table with both variable to allow user to see calculation\n",
    "table = \"\\nHour    Distance Traveled\\n\" \\\n",
    "         \"-------------------------\\n\"\n",
    "\n",
    "#  Depending on user input it allows for the table to change numbers \n",
    "for hour in range(hours): \n",
    "    distance = speed * (hour + 1) \n",
    "\n",
    "    table += format(hour + 1) + \"    \" + \\\n",
    "              format(distance) + \"\\n\"\n",
    "\n",
    "# Print the final calculations to show the user their distance and time traveled = MPH\n",
    "print(table)"
   ]
  },
  {
   "cell_type": "markdown",
   "id": "7bdec478",
   "metadata": {},
   "source": [
    "First I laid out the speed and time variables to allow the user to input their numbers. I then made sure to enter code that makes sure the user input are positive numbers so the calculation can be done. Next, I laid out the table that will display at the end once the calcualtions are complete. Finally, I formated the table to increase depending on the user input, which then it will print the users numbers with the final calcualations to show the user their total distance traveled and MPH."
   ]
  },
  {
   "cell_type": "markdown",
   "id": "e77cfb3d",
   "metadata": {},
   "source": [
    "## Programming Exercise - Question 12"
   ]
  },
  {
   "cell_type": "markdown",
   "id": "597ddc67",
   "metadata": {},
   "source": [
    "The textbook asks us to write a program that asks the user for input to figure out the final population of some organisms."
   ]
  },
  {
   "cell_type": "code",
   "execution_count": 11,
   "id": "96529020",
   "metadata": {},
   "outputs": [
    {
     "name": "stdout",
     "output_type": "stream",
     "text": [
      "Starting number of organisms: 50\n",
      "Average daily increase: 30\n",
      "Days to multiply: 4\n",
      "\n",
      "Day Approx.\tPopulation\n",
      "----------------------------------\n",
      "1\t\t50\n",
      "2\t\t65.0\n",
      "3\t\t84.5\n",
      "4\t\t109.85\n",
      "\n"
     ]
    }
   ],
   "source": [
    "# Ask the user for the starting popluation of the organisms\n",
    "starting_pop_organism = int(input(\"Starting number of organisms: \"))\n",
    "\n",
    "\n",
    "# Ask the user for the average daily increase of the population\n",
    "average_daily_increase = float(input(\"Average daily increase: \"))\n",
    "\n",
    "\n",
    "# Once the user inputs a number it will divide by 100 to make it a percentage\n",
    "average_daily_increase /= 100\n",
    "\n",
    "# Ask the user how many days the organisms had to multiply\n",
    "days_to_multipy = int(input(\"Days to multiply: \"))\n",
    "\n",
    "\n",
    "# Set up the final table that will include the calcualtions for the number of organisms\n",
    "finaltable = \"\\nDay Approx.\\tPopulation\\n\" + \\\n",
    "         \"----------------------------------\\n\"\n",
    "\n",
    "# Create a variable for the starting population of the the organisms\n",
    "population = starting_pop_organism\n",
    "\n",
    "# Create a range in which the organisms multiply to comeplete the calculations\n",
    "for day in range(days_to_multipy):\n",
    "\n",
    "    # Once the day is equal to zero the days will go up to the amount of days the organisms had to multiply\n",
    "    if day == 0:\n",
    "        finaltable += format(day + 1) + \"\\t\\t\" + format(population) + \"\\n\"\n",
    "    \n",
    "    # Creat the calculations to figure out final number of organisms\n",
    "    else: \n",
    "        population += (population * average_daily_increase)\n",
    "        finaltable += format(day + 1) + \"\\t\\t\" + format(population) + \"\\n\"\n",
    "\n",
    "# Print the final calcualtion of the organisms with the users input\n",
    "print(finaltable)"
   ]
  },
  {
   "cell_type": "markdown",
   "id": "cc76eb78",
   "metadata": {},
   "source": [
    "First, I asked the user to input the number of organisms, average daily increase, and the days to multiply. I also entered code that divides the users input for average daily increase by 100. Next I enter code that creates the table the final numbers will be included on. Next, I made a variable to make the code easier to understand by using popualtion for starting number of organisms. Next, I laid out a range for the table and continued to enter the calculations which included adding a day after everytime up until what the user input for days to multiply. I used the other two varibles to finalize the math by multiplying population and average daily increase to get the final population overall. This allows for the final calcualtions to be complete and entered into the final table which I asked to print at the end."
   ]
  },
  {
   "cell_type": "markdown",
   "id": "662115bb",
   "metadata": {},
   "source": [
    "## Programming Exercise - Question 14"
   ]
  },
  {
   "cell_type": "markdown",
   "id": "391f0ba0",
   "metadata": {},
   "source": [
    "The textbook asks us to write a program with while nested loops to draw a pattern."
   ]
  },
  {
   "cell_type": "code",
   "execution_count": 4,
   "id": "b121ced0",
   "metadata": {},
   "outputs": [
    {
     "name": "stdout",
     "output_type": "stream",
     "text": [
      "##\n",
      "# #\n",
      "#  #\n",
      "#   #\n",
      "#    #\n",
      "#     #\n",
      "#      #\n"
     ]
    }
   ],
   "source": [
    "# Lay out what you want with number of spaces wanted\n",
    "num_needed = 0\n",
    "# Use while to show that you do not want more than 7 spaces\n",
    "while num_needed < 7:\n",
    "    # Tell the code you want hashtags to fill the spaces\n",
    "    print('#', end='')\n",
    "    num_printed = 0\n",
    "    # Tell the code that you want less spaces printed than wanted\n",
    "    while num_printed < num_needed:\n",
    "        print(' ', end='')\n",
    "        # Tell the code you want a plus one every line\n",
    "        num_printed += 1\n",
    "    # Tell the code to print the hashtag in the spots you want it to\n",
    "    print('#')\n",
    "    num_needed += 1"
   ]
  },
  {
   "cell_type": "markdown",
   "id": "e12fd4fb",
   "metadata": {},
   "source": [
    "I first defined my variables as number needed and numbers printed. This allows for me to input the code that ultimately allows the code to print the pattern. Next I tell the code it doesn't have to go further than 7 lines. After that I tell it to print hashtags in the order it needs to be in. I also enter the code that shows that hastags printed should be less than the total number of spaces in the function. Finally I enter in the code that tells it to go down every line and print the hashtags in the correct spot."
   ]
  },
  {
   "cell_type": "code",
   "execution_count": null,
   "id": "efb261a4",
   "metadata": {},
   "outputs": [],
   "source": []
  }
 ],
 "metadata": {
  "kernelspec": {
   "display_name": "Python 3 (ipykernel)",
   "language": "python",
   "name": "python3"
  },
  "language_info": {
   "codemirror_mode": {
    "name": "ipython",
    "version": 3
   },
   "file_extension": ".py",
   "mimetype": "text/x-python",
   "name": "python",
   "nbconvert_exporter": "python",
   "pygments_lexer": "ipython3",
   "version": "3.11.5"
  }
 },
 "nbformat": 4,
 "nbformat_minor": 5
}
