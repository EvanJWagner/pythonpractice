{
 "cells": [
  {
   "cell_type": "markdown",
   "id": "f6e33350",
   "metadata": {},
   "source": [
    "# Chapter 7 Exercises"
   ]
  },
  {
   "cell_type": "markdown",
   "id": "3a1279ca",
   "metadata": {},
   "source": [
    "## Algorithm Workbench - Question 1"
   ]
  },
  {
   "cell_type": "markdown",
   "id": "0a217edb",
   "metadata": {},
   "source": [
    "The textbook asks us to write a statement that creates a list with the following strings: Einstein, Newton, Copernicus, and Kepler."
   ]
  },
  {
   "cell_type": "code",
   "execution_count": 6,
   "id": "36a325c1",
   "metadata": {},
   "outputs": [
    {
     "name": "stdout",
     "output_type": "stream",
     "text": [
      "['Einstein', 'Newton', 'Copernicus', 'Kepler']\n"
     ]
    }
   ],
   "source": [
    "# Define \"name_list\"\n",
    "names_list = ['Einstein', 'Newton', 'Copernicus', 'Kepler']\n",
    "# Print the variable \"names_list\"\n",
    "print(names_list)"
   ]
  },
  {
   "cell_type": "markdown",
   "id": "692aa33c",
   "metadata": {},
   "source": [
    "I first created the list and named it \"names_list\" so that it would hold my list. I then just asked the program to print the list and it did."
   ]
  },
  {
   "cell_type": "markdown",
   "id": "fadd35fc",
   "metadata": {},
   "source": [
    "## Algorithm Workbench - Question 2"
   ]
  },
  {
   "cell_type": "markdown",
   "id": "78ccbe5e",
   "metadata": {},
   "source": [
    "The textbook asks us to assume \"names\" references a list. Write a  loop that displays each element of the list."
   ]
  },
  {
   "cell_type": "code",
   "execution_count": 7,
   "id": "62aa6381",
   "metadata": {},
   "outputs": [
    {
     "name": "stdout",
     "output_type": "stream",
     "text": [
      "Joe\n",
      "John\n",
      "Josh\n",
      "Ben\n"
     ]
    }
   ],
   "source": [
    "# Define \"names\" and store the list\n",
    "names = ['Joe', 'John', 'Josh', 'Ben']\n",
    "# Use the for statement to define the names in the list\n",
    "for element in names:\n",
    "    # Print the elements in the list\n",
    "    print(element)"
   ]
  },
  {
   "cell_type": "markdown",
   "id": "b9986fff",
   "metadata": {},
   "source": [
    "I first defined the variable \"names\" so that I could create a list. I then created the \"for\" loop which tells the program that each element in the list it should print it."
   ]
  },
  {
   "cell_type": "markdown",
   "id": "94233343",
   "metadata": {},
   "source": [
    "## Programming Exercise - Question 1"
   ]
  },
  {
   "cell_type": "markdown",
   "id": "39af62dd",
   "metadata": {},
   "source": [
    "The textbook asks us to design a program that asks the user to enter a store’s sales for each day of the week. The amounts should be stored in a list. Use a loop to calculate the total sales for the week and display the result."
   ]
  },
  {
   "cell_type": "code",
   "execution_count": 16,
   "id": "2fc0d0b1",
   "metadata": {},
   "outputs": [
    {
     "name": "stdout",
     "output_type": "stream",
     "text": [
      "Enter the amount of sales for Sunday\n",
      "Enter the sales here: 60\n",
      "Enter the amount of sales for Monday\n",
      "Enter the sales here: 40\n",
      "Enter the amount of sales for Tuesday\n",
      "Enter the sales here: 53\n",
      "Enter the amount of sales for Wednsday\n",
      "Enter the sales here: 43\n",
      "Enter the amount of sales for Thursday\n",
      "Enter the sales here: 23\n",
      "Enter the amount of sales for Friday\n",
      "Enter the sales here: 90\n",
      "Enter the amount of sales for Saturday\n",
      "Enter the sales here: 67\n",
      "The total sales for the week is $ 376.00\n"
     ]
    }
   ],
   "source": [
    "# Call the main function\n",
    "def main():\n",
    "    # Use this value as an accumalator\n",
    "    total = 0.0\n",
    "    # Use this list as a basis of user input\n",
    "    daily_sales = [0.0, 0.0, 0.0, 0.0, 0.0, 0.0, 0.0]\n",
    "    index = 0\n",
    "    # Create a list that stores the days of the week into it\n",
    "    days_of_the_week = ['Sunday', 'Monday', 'Tuesday', 'Wednsday', 'Thursday', 'Friday', 'Saturday']\n",
    "    # Create a range for the days of the week \n",
    "    for index in range(7):\n",
    "        # Ask the user for the daily sales for each day of the week\n",
    "        print(\"Enter the amount of sales for\", days_of_the_week[index])\n",
    "        daily_sales[index] = float(input(\"Enter the sales here: \"))\n",
    "        # Using the user input conduct the math to figure out the total\n",
    "        total += daily_sales[index]\n",
    "    # Print the final number on sales for the whole week\n",
    "    print(\"The total sales for the week is $\", format(total, '.2f'), sep = ' ')\n",
    "# Call the main function once again\n",
    "main()"
   ]
  },
  {
   "cell_type": "markdown",
   "id": "50787191",
   "metadata": {},
   "source": [
    "I first called on the main function. I then used the total as an accumalator which then allowed me to lay a basis of my list for the days of the week. I then created the list for each day of the week and stored it. Next, I created a range for the 7 days of the week. Next, I ask the user for each daily sale and then the program stores it so it can be used in the calculation. Finally, the program prints the total sales for the week."
   ]
  },
  {
   "cell_type": "code",
   "execution_count": null,
   "id": "5a90c047",
   "metadata": {},
   "outputs": [],
   "source": []
  }
 ],
 "metadata": {
  "kernelspec": {
   "display_name": "Python 3 (ipykernel)",
   "language": "python",
   "name": "python3"
  },
  "language_info": {
   "codemirror_mode": {
    "name": "ipython",
    "version": 3
   },
   "file_extension": ".py",
   "mimetype": "text/x-python",
   "name": "python",
   "nbconvert_exporter": "python",
   "pygments_lexer": "ipython3",
   "version": "3.11.5"
  }
 },
 "nbformat": 4,
 "nbformat_minor": 5
}
