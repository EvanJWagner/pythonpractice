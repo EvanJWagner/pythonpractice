{
 "cells": [
  {
   "cell_type": "markdown",
   "id": "760602c9",
   "metadata": {},
   "source": [
    "# Chapter 2 Programming Exercises"
   ]
  },
  {
   "cell_type": "markdown",
   "id": "e6afef01",
   "metadata": {},
   "source": [
    "## Exercises 1 and 13"
   ]
  },
  {
   "cell_type": "markdown",
   "id": "d5d0f38b",
   "metadata": {},
   "source": [
    "### Exercise 1"
   ]
  },
  {
   "cell_type": "markdown",
   "id": "5a1ebac9",
   "metadata": {},
   "source": [
    "The textbook asks to display the name, address, phone number, and college major of a student."
   ]
  },
  {
   "cell_type": "markdown",
   "id": "e2080cd3",
   "metadata": {},
   "source": [
    "## Name"
   ]
  },
  {
   "cell_type": "code",
   "execution_count": 1,
   "id": "057fc961",
   "metadata": {},
   "outputs": [
    {
     "name": "stdout",
     "output_type": "stream",
     "text": [
      "What is your first and last name?\n",
      "Jeff Boon\n"
     ]
    }
   ],
   "source": [
    "# Get the name of the college student\n",
    "# Tell the user what we expect\n",
    "print(\"What is your first and last name?\")\n",
    "# Wait for input from user for First and Last name\n",
    "name = input()"
   ]
  },
  {
   "cell_type": "markdown",
   "id": "56010b27",
   "metadata": {},
   "source": [
    "I put in the code that asks the user to put in their name in the box. I then put in the name which will allow me at the end to figure out all the information."
   ]
  },
  {
   "cell_type": "markdown",
   "id": "664cb660",
   "metadata": {},
   "source": [
    "## Address"
   ]
  },
  {
   "cell_type": "code",
   "execution_count": 2,
   "id": "d5ef2beb",
   "metadata": {},
   "outputs": [
    {
     "name": "stdout",
     "output_type": "stream",
     "text": [
      "What is your address\n",
      "9264 Westlake Dr\n"
     ]
    }
   ],
   "source": [
    "# Get the address of the college student\n",
    "# Tell the user what to expect\n",
    "print(\"What is your address\")\n",
    "# Wait for input from user for address\n",
    "address = input()"
   ]
  },
  {
   "cell_type": "markdown",
   "id": "e5308e3a",
   "metadata": {},
   "source": [
    "I then put in code that asks the user for their address and then they can input it into the box."
   ]
  },
  {
   "cell_type": "code",
   "execution_count": 3,
   "id": "059da66c",
   "metadata": {},
   "outputs": [
    {
     "name": "stdout",
     "output_type": "stream",
     "text": [
      "City\n",
      "Chicago\n"
     ]
    }
   ],
   "source": [
    "print(\"City\")\n",
    "# Wait for input from user for city\n",
    "city = input()"
   ]
  },
  {
   "cell_type": "markdown",
   "id": "20f1fad5",
   "metadata": {},
   "source": [
    "Now, I put in the code that asks the user for which city they live in. This then completes two of the objectives the textbook asks for."
   ]
  },
  {
   "cell_type": "code",
   "execution_count": 4,
   "id": "f7643efa",
   "metadata": {},
   "outputs": [
    {
     "name": "stdout",
     "output_type": "stream",
     "text": [
      "State\n",
      "Illinois\n"
     ]
    }
   ],
   "source": [
    "print(\"State\")\n",
    "# Wait for input from user for state\n",
    "state = input()"
   ]
  },
  {
   "cell_type": "markdown",
   "id": "164e9607",
   "metadata": {},
   "source": [
    "Next, I put in the code that asks the student for their state they live in. "
   ]
  },
  {
   "cell_type": "code",
   "execution_count": 6,
   "id": "1d1959e3",
   "metadata": {},
   "outputs": [
    {
     "name": "stdout",
     "output_type": "stream",
     "text": [
      "Zipcode\n",
      "42635\n"
     ]
    }
   ],
   "source": [
    "print(\"Zipcode\")\n",
    "# Wait for inout from user for zipcode\n",
    "zipcode = input()"
   ]
  },
  {
   "cell_type": "markdown",
   "id": "e04fc309",
   "metadata": {},
   "source": [
    "Finally, I put in the code that asks the user for their zipcode. This results in the final address for the student."
   ]
  },
  {
   "cell_type": "code",
   "execution_count": 8,
   "id": "f89fc8a4",
   "metadata": {},
   "outputs": [
    {
     "name": "stdout",
     "output_type": "stream",
     "text": [
      "This is your address\n",
      "9264 Westlake Dr\n",
      "Chicago\n",
      "Illinois\n",
      "42635\n"
     ]
    }
   ],
   "source": [
    "# Get the full address of the student\n",
    "# Tell the user what is next\n",
    "print(\"This is your address\")\n",
    "print(address)\n",
    "print(city)\n",
    "print(state)\n",
    "print(zipcode)"
   ]
  },
  {
   "cell_type": "markdown",
   "id": "1a57d000",
   "metadata": {},
   "source": [
    "I ask the student one more time to confirm that this is their address. I put in the code from above that it originally asks for in it puts it back down all in one spot allowing them to see the info all at once."
   ]
  },
  {
   "cell_type": "markdown",
   "id": "0fb2786b",
   "metadata": {},
   "source": [
    "## Telephone Number"
   ]
  },
  {
   "cell_type": "code",
   "execution_count": 10,
   "id": "ecfd1d45",
   "metadata": {},
   "outputs": [
    {
     "name": "stdout",
     "output_type": "stream",
     "text": [
      "What is your phone number\n",
      "415-637-8432\n"
     ]
    }
   ],
   "source": [
    "# Get the telephone number of the student\n",
    "# Tell the user what to expect\n",
    "print(\"What is your phone number\")\n",
    "# Wait for input from the user\n",
    "phonenumber = input()"
   ]
  },
  {
   "cell_type": "markdown",
   "id": "0f504d06",
   "metadata": {},
   "source": [
    "Now, I put in the code that asks the user for their phone number. They then put in the phone number and it will allow me to showcase every thing at the end."
   ]
  },
  {
   "cell_type": "markdown",
   "id": "3fdbb7ba",
   "metadata": {},
   "source": [
    "## College Major"
   ]
  },
  {
   "cell_type": "code",
   "execution_count": 11,
   "id": "ae476719",
   "metadata": {},
   "outputs": [
    {
     "name": "stdout",
     "output_type": "stream",
     "text": [
      " What is your College Major\n",
      "Programming\n"
     ]
    }
   ],
   "source": [
    "# Get the college major of the student\n",
    "# Tell the user what to expect\n",
    "print(\" What is your College Major\")\n",
    "# Wait for input from the user\n",
    "collegemajor = input()"
   ]
  },
  {
   "cell_type": "markdown",
   "id": "a29a627e",
   "metadata": {},
   "source": [
    "Now, that we have all the info of the college student by using code to ask for their phone number. This will allo for the final part of putting it all back in one spot"
   ]
  },
  {
   "cell_type": "markdown",
   "id": "eb17d8ca",
   "metadata": {},
   "source": [
    "## Student Information"
   ]
  },
  {
   "cell_type": "code",
   "execution_count": 12,
   "id": "5ae8889e",
   "metadata": {},
   "outputs": [
    {
     "name": "stdout",
     "output_type": "stream",
     "text": [
      "Full name\n",
      "Jeff Boon\n",
      "Address\n",
      "9264 Westlake Dr\n",
      "Chicago\n",
      "Illinois\n",
      "42635\n",
      "Phone Number\n",
      "415-637-8432\n",
      "College Major\n",
      "Programming\n"
     ]
    }
   ],
   "source": [
    "# Display all info of the college student\n",
    "print(\"Full name\")\n",
    "print(name)\n",
    "print(\"Address\")\n",
    "print(address)\n",
    "print(city)\n",
    "print(state)\n",
    "print(zipcode)\n",
    "print(\"Phone Number\")\n",
    "print(phonenumber)\n",
    "print(\"College Major\")\n",
    "print(collegemajor)"
   ]
  },
  {
   "cell_type": "markdown",
   "id": "0144ab26",
   "metadata": {},
   "source": [
    "Finally, I put all the information back into one spot so the student can read what they have put in. I use the print function with variables that all the inputs from the student to show back up at the end."
   ]
  },
  {
   "cell_type": "markdown",
   "id": "7dee2cda",
   "metadata": {},
   "source": [
    "### Exercise 13"
   ]
  },
  {
   "cell_type": "markdown",
   "id": "319dc7fd",
   "metadata": {},
   "source": [
    "The textbook asks us to use a equation from a vineyard owner to figure out how many plants can put be in each row. With other variables given to figure out the full equation."
   ]
  },
  {
   "cell_type": "markdown",
   "id": "4423f150",
   "metadata": {},
   "source": [
    "To start off I established each variable with the float function. By stating each variable it allows the user to put the values into the equation."
   ]
  },
  {
   "cell_type": "code",
   "execution_count": 39,
   "id": "ffdeda5d",
   "metadata": {},
   "outputs": [
    {
     "name": "stdout",
     "output_type": "stream",
     "text": [
      "Please enter the length of the row, in feet: 15\n",
      "Please enter the amount of space used by an end-post assembly:3\n",
      "Please enter the amount of space between the grapevines: 5\n"
     ]
    }
   ],
   "source": [
    "R = float(input('Please enter the length of the row, in feet: '))\n",
    "E = float(input('Please enter the amount of space used by an end-post assembly:' ))\n",
    "S = float(input('Please enter the amount of space between the grapevines: '))"
   ]
  },
  {
   "cell_type": "markdown",
   "id": "729d07fa",
   "metadata": {},
   "source": [
    "Once the user puts the values in, it allows those values to get put straight into the equation that I rewrote into code below this."
   ]
  },
  {
   "cell_type": "code",
   "execution_count": 40,
   "id": "963a4505",
   "metadata": {},
   "outputs": [],
   "source": [
    "V = (R -(2 * E)) / S"
   ]
  },
  {
   "cell_type": "code",
   "execution_count": 41,
   "id": "4d9ccf12",
   "metadata": {},
   "outputs": [
    {
     "name": "stdout",
     "output_type": "stream",
     "text": [
      "The number of grapevines that will fit in a row =  1.8\n"
     ]
    }
   ],
   "source": [
    "print('The number of grapevines that will fit in a row = ', V)"
   ]
  },
  {
   "cell_type": "markdown",
   "id": "487373c8",
   "metadata": {},
   "source": [
    "Finally, once the user puts the values in they automatically go into the equation and with the print function it automatically puts the output in the next line. However, depending on what values the user puts in could depend on the final output of the code."
   ]
  },
  {
   "cell_type": "code",
   "execution_count": null,
   "id": "3d014d99",
   "metadata": {},
   "outputs": [],
   "source": []
  }
 ],
 "metadata": {
  "kernelspec": {
   "display_name": "Python 3 (ipykernel)",
   "language": "python",
   "name": "python3"
  },
  "language_info": {
   "codemirror_mode": {
    "name": "ipython",
    "version": 3
   },
   "file_extension": ".py",
   "mimetype": "text/x-python",
   "name": "python",
   "nbconvert_exporter": "python",
   "pygments_lexer": "ipython3",
   "version": "3.11.5"
  }
 },
 "nbformat": 4,
 "nbformat_minor": 5
}
