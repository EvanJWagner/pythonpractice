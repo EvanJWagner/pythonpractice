{
 "cells": [
  {
   "cell_type": "markdown",
   "id": "f93b0384",
   "metadata": {},
   "source": [
    "# Chapter 6 Exercises"
   ]
  },
  {
   "cell_type": "markdown",
   "id": "f7ef00a3",
   "metadata": {},
   "source": [
    "## Algorithm Workbench - Question 1"
   ]
  },
  {
   "cell_type": "markdown",
   "id": "a474d781",
   "metadata": {},
   "source": [
    " The textbook asks us to write a program that opens an output file with the filename , writes your name to the file, then closes the file. "
   ]
  },
  {
   "cell_type": "code",
   "execution_count": 6,
   "id": "613cd2a3",
   "metadata": {},
   "outputs": [],
   "source": [
    "# Open the output file \n",
    "myfile = open(\"my_name.txt\", \"w\")\n",
    "# Insert your name into the output file\n",
    "myfile.write(\"Evan Wagner\")\n",
    "# Close the file once your name has been inserted into it\n",
    "myfile.close()"
   ]
  },
  {
   "cell_type": "markdown",
   "id": "46710cfd",
   "metadata": {},
   "source": [
    "I first told the code to open a file named \"my_name.txt\", I then told it to write my name into the file. Once those two steps were completed I told the file to close."
   ]
  },
  {
   "cell_type": "markdown",
   "id": "87593dd0",
   "metadata": {},
   "source": [
    "## Algorithm Workbench - Question 2"
   ]
  },
  {
   "cell_type": "markdown",
   "id": "3c817728",
   "metadata": {},
   "source": [
    "The textbook asks us to write a program that opens the  file that was created by the program in problem 1, reads your name from the file, displays the name on the screen, then closes the file."
   ]
  },
  {
   "cell_type": "code",
   "execution_count": 7,
   "id": "17bf303b",
   "metadata": {},
   "outputs": [
    {
     "name": "stdout",
     "output_type": "stream",
     "text": [
      "Evan Wagner\n"
     ]
    }
   ],
   "source": [
    "# Open up the output file from the first problem \n",
    "myfile = open(\"my_name.txt\", \"r\")\n",
    "# Read and store the name\n",
    "name = myfile.read()\n",
    "# Print the stored name from the file\n",
    "print(name)\n",
    "# Close the file\n",
    "myfile.close()"
   ]
  },
  {
   "cell_type": "markdown",
   "id": "63587ef1",
   "metadata": {},
   "source": [
    "I first told the code to open up the output file from the first problem that had the name stored in it. I then told it to read the name stored in the file and store it in this question. Next, I told the code to print the name that was stored. Finally I used the code to close the file once the name was printed."
   ]
  },
  {
   "cell_type": "markdown",
   "id": "d020d20e",
   "metadata": {},
   "source": [
    "## Programming Exercise - Question 1"
   ]
  },
  {
   "cell_type": "markdown",
   "id": "eb4244f3",
   "metadata": {},
   "source": [
    "The textbook asks us to assume a file containing a series of integers is named and exists on the computer’s disk. Write a program that displays all of the numbers in the file."
   ]
  },
  {
   "cell_type": "code",
   "execution_count": 5,
   "id": "d638af8a",
   "metadata": {},
   "outputs": [
    {
     "name": "stdout",
     "output_type": "stream",
     "text": [
      "25\n",
      "5\n",
      "4\n",
      "3\n",
      "4\n",
      "5\n",
      "7\n",
      "7\n",
      "7\n",
      "6\n",
      "66\n",
      "87\n",
      "89\n",
      "6\n",
      "43\n",
      "56\n",
      "43\n",
      "23\n",
      "67\n",
      "8\n",
      "99\n",
      "97\n",
      "43\n",
      "22\n",
      "12\n",
      "12\n",
      "45\n",
      "67\n",
      "54\n",
      "67\n",
      "94\n",
      "57\n",
      "43\n",
      "67\n",
      "86\n",
      "3\n",
      "77\n",
      "3\n",
      "5\n",
      "77\n",
      "61\n",
      "39\n",
      "43\n"
     ]
    }
   ],
   "source": [
    "# Open the file\n",
    "myfile = open(\"numbers.txt\", \"r\")\n",
    "\n",
    "# Read and display the numbers on the file\n",
    "for line in myfile:\n",
    "    number = int(line)\n",
    "    print(number)\n",
    "    \n",
    "\n",
    "# Close the file\n",
    "myfile.close()"
   ]
  },
  {
   "cell_type": "markdown",
   "id": "0ad60cec",
   "metadata": {},
   "source": [
    "I first used the code to open up the \"numbers.txt\" file I then went to my file explorer and entered some numbers into the file. I then saved the file and came back to the code which I then told the code to read each line and print the number on it. Finally, I used code that closes the \"numbers.txt\" file once the numbers are printed."
   ]
  },
  {
   "cell_type": "markdown",
   "id": "3e5db3c7",
   "metadata": {},
   "source": [
    "## Programming Exercise - Question 6"
   ]
  },
  {
   "cell_type": "markdown",
   "id": "6e170f61",
   "metadata": {},
   "source": [
    "The textbook asks us to assume a file containing a series of integers is named and exists on the computer’s disk. Write a program that calculates the average of all the numbers stored in the file."
   ]
  },
  {
   "cell_type": "code",
   "execution_count": 26,
   "id": "b95ba447",
   "metadata": {},
   "outputs": [
    {
     "name": "stdout",
     "output_type": "stream",
     "text": [
      "The numbers are: [25, 5, 4, 3, 4, 5, 7, 7, 7, 6, 66, 87, 89, 6, 43, 56, 43, 23, 67, 8, 99, 97, 43, 22, 12, 12, 45, 67, 54, 67, 94, 57, 43, 67, 86, 3, 77, 3, 5, 77, 61, 39, 43]\n",
      "Their average is: 40.325581395348834\n"
     ]
    }
   ],
   "source": [
    "def main():\n",
    "    \n",
    "    numbers = []\n",
    "    # Using a context manager at the end of a \"with\" block automatically closes the file\n",
    "    with open(\"numbers.txt\", \"r\") as file_numbers:\n",
    "\n",
    "        # Iterate through each line in the file\n",
    "        for line in file_numbers:\n",
    "            # Adding each number to the end of the numbers list\n",
    "            number = int(line)\n",
    "            numbers.append(number)\n",
    "            \n",
    "    # Calculate the total of all the numbers on the file\n",
    "    total = sum(numbers)\n",
    "    # Use the amount of numbers \"length\" as the overall divisor\n",
    "    average = total / len(numbers) \n",
    "\n",
    "    # Print all the numbers from the file\n",
    "    print(f\"The numbers are: {numbers}\")\n",
    "    # Print their average\n",
    "    print(f\"Their average is: {average}\")\n",
    "\n",
    "main()    "
   ]
  },
  {
   "cell_type": "markdown",
   "id": "e3458fcc",
   "metadata": {},
   "source": [
    "I first defined the main function. I then used a \"with\" block to open the \"numbers.txt\" file. Doing this automatically will close the file once the numbers are printed. I then made sure to iterate through each line of code this then allowed for me make the code calculate the total sum of the numbers in the file and then I used the full amount of numbers in the txt file to use as the divisor. I then set up the code to take the average of this using the total and length of the numbers from the txt file. Finally, I told the program to print all the numbers on the txt file and then I told the program to print the average of those numbers."
   ]
  },
  {
   "cell_type": "markdown",
   "id": "3e63977d",
   "metadata": {},
   "source": [
    "## Programming Exercise - Question 9"
   ]
  },
  {
   "cell_type": "markdown",
   "id": "b09b4ec4",
   "metadata": {},
   "source": [
    "The textbook asks us to modify the program that you wrote for Exercise 6 so it handles the following exceptions:  It should handle any exceptions that are raised when the file is opened and data is read from it. It should handle any exceptions that are raised when the items that are read from the file are converted to a number."
   ]
  },
  {
   "cell_type": "code",
   "execution_count": 19,
   "id": "c95c9be7",
   "metadata": {},
   "outputs": [
    {
     "name": "stdout",
     "output_type": "stream",
     "text": [
      "This is the average value: 40.325581395348834\n"
     ]
    }
   ],
   "source": [
    "# Use the try and except functions\n",
    "\n",
    "try:\n",
    "\n",
    "   # Read the numbers.txt file to figure out the numbers on it\n",
    "\n",
    "   read_file = open('numbers.txt', 'r')\n",
    "\n",
    "   # Store the numbers from the txt file in the variable file_numbers.\n",
    "\n",
    "   file_numbers = read_file.read()\n",
    "\n",
    "   # Close the file\n",
    "\n",
    "   read_file.close()\n",
    "\n",
    "   #  Split the number of files into list values\n",
    "\n",
    "   list_values = file_numbers.split()\n",
    "\n",
    "   # Figure out the list length to find the divisor\n",
    "\n",
    "   list_length = len(list_values)\n",
    "\n",
    "   try:\n",
    "\n",
    "       # Iterate the loop to figure out the numbers on the txt file\n",
    "\n",
    "       for i in range(list_length):\n",
    "\n",
    "           list_values[i] = float(list_values[i])\n",
    "\n",
    "       # Get the sum of all the numbers on the txt file\n",
    "\n",
    "       List_sum = sum(list_values)\n",
    "\n",
    "       # Calcualte the average of the numbers on the txt file\n",
    "\n",
    "       Average_value = (List_sum)/list_length\n",
    "\n",
    "       # Tell the user the average value\n",
    "\n",
    "       print(\"This is the average value:\" , Average_value) \n",
    "        \n",
    "   except ValueError:\n",
    "\n",
    "       print( \"File must have only numbers. Try again.\" )\n",
    "\n",
    "   # Handles IOError exceptions\n",
    "\n",
    "except IOError:\n",
    "\n",
    "   # Print this error message for IOError\n",
    "\n",
    "   print(\"Trouble opening file. Try again.\")"
   ]
  },
  {
   "cell_type": "markdown",
   "id": "c03ca6f1",
   "metadata": {},
   "source": [
    "I modified my original problem drasitically as I figured out it would be easier doing it this way. I first used the \"try\" and \"except\" functions doing this allows to try some things but not some others. Next, I used the code to read the \"numbers.txt\" file which it then stored the numbers to use later. Next, the code calculated the amount of lines the numbers were on to use as the divisor. I then told the code to iterate the loop to find the numbers on the txt file. It then found out the sum of all the numbers and used that and the length of the numbers on the txt file to figure out the average of all the numbers. I then told the program to print the average. Finally, I incorporate the two exception handlers by using the \"except\" function. If the program ends up breaking the exceptions the code will print out an error statement prompting the user to try again."
   ]
  },
  {
   "cell_type": "code",
   "execution_count": null,
   "id": "f1c09c3d",
   "metadata": {},
   "outputs": [],
   "source": []
  }
 ],
 "metadata": {
  "kernelspec": {
   "display_name": "Python 3 (ipykernel)",
   "language": "python",
   "name": "python3"
  },
  "language_info": {
   "codemirror_mode": {
    "name": "ipython",
    "version": 3
   },
   "file_extension": ".py",
   "mimetype": "text/x-python",
   "name": "python",
   "nbconvert_exporter": "python",
   "pygments_lexer": "ipython3",
   "version": "3.11.5"
  }
 },
 "nbformat": 4,
 "nbformat_minor": 5
}
