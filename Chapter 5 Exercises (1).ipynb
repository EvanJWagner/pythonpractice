{
 "cells": [
  {
   "cell_type": "markdown",
   "id": "81387aa3",
   "metadata": {},
   "source": [
    "# Chapter 5 Exercises"
   ]
  },
  {
   "cell_type": "code",
   "execution_count": 6,
   "id": "cf8b1355",
   "metadata": {},
   "outputs": [
    {
     "name": "stdout",
     "output_type": "stream",
     "text": [
      "Enter a number: 7\n",
      "This is your product:  70\n"
     ]
    }
   ],
   "source": [
    "times_ten = int(input(\"Enter a number: \"))\n",
    "product = times_ten * 10\n",
    "print(\"This is your product: \" , product)"
   ]
  },
  {
   "cell_type": "code",
   "execution_count": null,
   "id": "79acd5b3",
   "metadata": {},
   "outputs": [],
   "source": []
  }
 ],
 "metadata": {
  "kernelspec": {
   "display_name": "Python 3 (ipykernel)",
   "language": "python",
   "name": "python3"
  },
  "language_info": {
   "codemirror_mode": {
    "name": "ipython",
    "version": 3
   },
   "file_extension": ".py",
   "mimetype": "text/x-python",
   "name": "python",
   "nbconvert_exporter": "python",
   "pygments_lexer": "ipython3",
   "version": "3.11.5"
  }
 },
 "nbformat": 4,
 "nbformat_minor": 5
}
