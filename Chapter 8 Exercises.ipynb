{
 "cells": [
  {
   "cell_type": "markdown",
   "id": "d5bf237c",
   "metadata": {},
   "source": [
    "# Chapter 8 Exercises"
   ]
  },
  {
   "cell_type": "markdown",
   "id": "f8516b4f",
   "metadata": {},
   "source": [
    "## Algorithm Workbench - Question 2"
   ]
  },
  {
   "cell_type": "markdown",
   "id": "a76ed1f6",
   "metadata": {},
   "source": [
    "The textbook asks us to write a loop that counts the number of space characters that appear in the string referenced by \"mystring\"."
   ]
  },
  {
   "cell_type": "code",
   "execution_count": 16,
   "id": "41606179",
   "metadata": {},
   "outputs": [
    {
     "name": "stdout",
     "output_type": "stream",
     "text": [
      "Number of space characters in the string: 5\n"
     ]
    }
   ],
   "source": [
    "# Define the \"mystring\" variable\n",
    "my_string = \"This is a string with spaces.\"\n",
    "# Tell the program to count the spaces in the variable\n",
    "count_spaces = 0\n",
    "# Tell the program that for every space count up \n",
    "for char in my_string:\n",
    "\n",
    "    if char == \" \":\n",
    "       # Count up by one everytime there is a space\n",
    "       count_spaces += 1\n",
    "# Print the number of spaces in the string and tell the user\n",
    "print(\"Number of space characters in the string:\", count_spaces)"
   ]
  },
  {
   "cell_type": "markdown",
   "id": "fd38bcd7",
   "metadata": {},
   "source": [
    "I first defined the \"mystring\" variable. I then used the program to count the amount of spaces in the string. Next, I told the program to count the amount of spaces up by 1 everytime there is a space in the string. Finally, the program tells the user the number of spaces in the string by using the print function."
   ]
  },
  {
   "cell_type": "markdown",
   "id": "34d2780e",
   "metadata": {},
   "source": [
    "## Algorithm Workbench - Question 3"
   ]
  },
  {
   "cell_type": "markdown",
   "id": "7646043e",
   "metadata": {},
   "source": [
    "The textbook asks us to write a loop that counts the number of digits that appear in the string referenced by \"mystring\"."
   ]
  },
  {
   "cell_type": "code",
   "execution_count": 26,
   "id": "4dd0c0aa",
   "metadata": {},
   "outputs": [],
   "source": [
    "# Define the \"mystring\" variable\n",
    "my_string = \"e4o9f3kfifdo383db474g0\"\n",
    "# Tell the program to count the digits in the variable\n",
    "digit_count = 0\n"
   ]
  }
 ],
 "metadata": {
  "kernelspec": {
   "display_name": "Python 3 (ipykernel)",
   "language": "python",
   "name": "python3"
  },
  "language_info": {
   "codemirror_mode": {
    "name": "ipython",
    "version": 3
   },
   "file_extension": ".py",
   "mimetype": "text/x-python",
   "name": "python",
   "nbconvert_exporter": "python",
   "pygments_lexer": "ipython3",
   "version": "3.11.5"
  }
 },
 "nbformat": 4,
 "nbformat_minor": 5
}
