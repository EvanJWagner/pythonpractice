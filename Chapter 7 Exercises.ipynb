{
 "cells": [
  {
   "cell_type": "markdown",
   "id": "922db106",
   "metadata": {},
   "source": [
    "# Chapter 7 Exercises"
   ]
  },
  {
   "cell_type": "markdown",
   "id": "282fa387",
   "metadata": {},
   "source": [
    "## Algorithm Workbench - Question 1"
   ]
  },
  {
   "cell_type": "markdown",
   "id": "839956f2",
   "metadata": {},
   "source": [
    "The textbook asks us to write a statement that creates a list with the following strings: Einstein, Newton, Copernicus, and Kepler."
   ]
  },
  {
   "cell_type": "code",
   "execution_count": 6,
   "id": "87960ed6",
   "metadata": {},
   "outputs": [
    {
     "name": "stdout",
     "output_type": "stream",
     "text": [
      "['Einstein', 'Newton', 'Copernicus', 'Kepler']\n"
     ]
    }
   ],
   "source": [
    "# Define \"name_list\"\n",
    "names_list = ['Einstein', 'Newton', 'Copernicus', 'Kepler']\n",
    "# Print the variable \"names_list\"\n",
    "print(names_list)"
   ]
  },
  {
   "cell_type": "markdown",
   "id": "8dcd930e",
   "metadata": {},
   "source": [
    "I first created the list and named it \"names_list\" so that it would hold my list. I then just asked the program to print the list and it did."
   ]
  },
  {
   "cell_type": "markdown",
   "id": "2df650b4",
   "metadata": {},
   "source": [
    "## Algorithm Workbench - Question 2"
   ]
  },
  {
   "cell_type": "markdown",
   "id": "26a74d62",
   "metadata": {},
   "source": [
    "The textbook asks us to assume \"names\" references a list. Write a  loop that displays each element of the list."
   ]
  },
  {
   "cell_type": "code",
   "execution_count": 7,
   "id": "43619fc3",
   "metadata": {},
   "outputs": [
    {
     "name": "stdout",
     "output_type": "stream",
     "text": [
      "Joe\n",
      "John\n",
      "Josh\n",
      "Ben\n"
     ]
    }
   ],
   "source": [
    "# Define \"names\" and store the list\n",
    "names = ['Joe', 'John', 'Josh', 'Ben']\n",
    "# Use the for statement to define the names in the list\n",
    "for element in names:\n",
    "    # Print the elements in the list\n",
    "    print(element)"
   ]
  },
  {
   "cell_type": "markdown",
   "id": "0a1cfcda",
   "metadata": {},
   "source": [
    "I first defined the variable \"names\" so that I could create a list. I then created the \"for\" loop which tells the program that each element in the list it should print it."
   ]
  },
  {
   "cell_type": "markdown",
   "id": "25e6d19b",
   "metadata": {},
   "source": [
    "## Programming Exercise - Question 1"
   ]
  },
  {
   "cell_type": "markdown",
   "id": "5e54ba9d",
   "metadata": {},
   "source": [
    "The textbook asks us to design a program that asks the user to enter a store’s sales for each day of the week. The amounts should be stored in a list. Use a loop to calculate the total sales for the week and display the result."
   ]
  },
  {
   "cell_type": "code",
   "execution_count": null,
   "id": "2868d74b",
   "metadata": {},
   "outputs": [],
   "source": [
    "# Ask the user for the store sales for each day\n",
    "Sunday = int(input(\"Enter the sales for Sunday: \"))\n",
    "Monday = int(input(\"Enter the sales for Monday: \"))\n",
    "Tuesday = int(input(\"Enter the sales for Tuesday: \"))\n",
    "Wednesday = int(input(\"Enter the sales for Wednesday: \"))\n",
    "Thursday = int(input(\"Enter the sales for Thursday: \"))\n",
    "Friday = int(input(\"Enter the sales for Friday: \"))\n",
    "Saturday = int(input(\"Enter the sales for Saturday: \"))\n",
    "# Store the user input into a list\n",
    "daily_sales = ['Sunday', 'Monday', 'Tuesday', 'Wednesday', 'Thursday', 'Friday','Saturday',]\n"
   ]
  }
 ],
 "metadata": {
  "kernelspec": {
   "display_name": "Python 3 (ipykernel)",
   "language": "python",
   "name": "python3"
  },
  "language_info": {
   "codemirror_mode": {
    "name": "ipython",
    "version": 3
   },
   "file_extension": ".py",
   "mimetype": "text/x-python",
   "name": "python",
   "nbconvert_exporter": "python",
   "pygments_lexer": "ipython3",
   "version": "3.11.5"
  }
 },
 "nbformat": 4,
 "nbformat_minor": 5
}
