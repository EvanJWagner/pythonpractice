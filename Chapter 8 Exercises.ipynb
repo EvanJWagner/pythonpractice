{
 "cells": [
  {
   "cell_type": "markdown",
   "id": "b5c82cca",
   "metadata": {},
   "source": [
    "# Chapter 8 Exercises"
   ]
  },
  {
   "cell_type": "markdown",
   "id": "1d134151",
   "metadata": {},
   "source": [
    "## Algorithm Workbench - Question 2"
   ]
  },
  {
   "cell_type": "markdown",
   "id": "40350c55",
   "metadata": {},
   "source": [
    "The textbook asks us to write a loop that counts the number of space characters that appear in the string referenced by \"mystring\"."
   ]
  },
  {
   "cell_type": "code",
   "execution_count": 16,
   "id": "658604bf",
   "metadata": {},
   "outputs": [
    {
     "name": "stdout",
     "output_type": "stream",
     "text": [
      "Number of space characters in the string: 5\n"
     ]
    }
   ],
   "source": [
    "# Define the \"mystring\" variable\n",
    "my_string = \"This is a string with spaces.\"\n",
    "# Tell the program to count the spaces in the variable\n",
    "count_spaces = 0\n",
    "# Tell the program that for every space count up \n",
    "for char in my_string:\n",
    "\n",
    "    if char == \" \":\n",
    "       # Count up by one everytime there is a space\n",
    "       count_spaces += 1\n",
    "# Print the number of spaces in the string and tell the user\n",
    "print(\"Number of space characters in the string:\", count_spaces)"
   ]
  },
  {
   "cell_type": "markdown",
   "id": "5cb07eee",
   "metadata": {},
   "source": [
    "I first defined the \"mystring\" variable. I then used the program to count the amount of spaces in the string. Next, I told the program to count the amount of spaces up by 1 everytime there is a space in the string. Finally, the program tells the user the number of spaces in the string by using the print function."
   ]
  },
  {
   "cell_type": "markdown",
   "id": "bd43ab81",
   "metadata": {},
   "source": [
    "## Algorithm Workbench - Question 3"
   ]
  },
  {
   "cell_type": "markdown",
   "id": "27f4f082",
   "metadata": {},
   "source": [
    "The textbook asks us to write a loop that counts the number of digits that appear in the string referenced by \"mystring\"."
   ]
  },
  {
   "cell_type": "code",
   "execution_count": 27,
   "id": "a795376b",
   "metadata": {},
   "outputs": [
    {
     "name": "stdout",
     "output_type": "stream",
     "text": [
      "Number of digits: 10\n"
     ]
    }
   ],
   "source": [
    "# Define the \"mystring\" variable\n",
    "my_string = \"e4o9f3kfifdo383db474g0\"\n",
    "# Tell the program to count the digits in the variable\n",
    "digit_count = 0\n",
    "# Tell the program that for every digit count up\n",
    "for char in my_string:\n",
    "\n",
    "   if char.isdigit():\n",
    "       # Count up everytime there is a digit in the string\n",
    "       digit_count += 1\n",
    "# Print the number of digits in the string and tell the user\n",
    "print(\"Number of digits:\", digit_count)"
   ]
  },
  {
   "cell_type": "markdown",
   "id": "0f0f4c41",
   "metadata": {},
   "source": [
    "I first defined the \"mystring\" variable. I then used the program to count the amount of digits in the string. Next, I told the program to count the amount of digits up by 1 everytime there is a number in the string. Finally, the program tells the user the number of digits in the string by using the print function."
   ]
  },
  {
   "cell_type": "markdown",
   "id": "fcacec3e",
   "metadata": {},
   "source": [
    "## Programming Exercises - Question 1"
   ]
  },
  {
   "cell_type": "markdown",
   "id": "272f017b",
   "metadata": {},
   "source": [
    "The textbook asks us write a program that gets a string containing a person’s first, middle, and last names, and displays their first, middle, and last initials. "
   ]
  },
  {
   "cell_type": "code",
   "execution_count": 35,
   "id": "53970fd0",
   "metadata": {},
   "outputs": [
    {
     "name": "stdout",
     "output_type": "stream",
     "text": [
      ".Enter your full name, first, middle, and last: Evan Joseph Wagner\n",
      "EJW"
     ]
    }
   ],
   "source": [
    "# Define and call the main function\n",
    "def main():     \n",
    "    # Ask the user for their name     \n",
    "    full_name = input (\"Enter your full name, first, middle, and last: \")      \n",
    "    # Split the string according to spaces between the users name    \n",
    "    name = full_name.split()      \n",
    "    # The first character of each name is an initial     \n",
    "    for string in name:         print(string[0].upper(), sep='', end='')         \n",
    "print('.', sep=' ', end='')  \n",
    "# Call the main function. \n",
    "main()"
   ]
  },
  {
   "cell_type": "markdown",
   "id": "d9641d60",
   "metadata": {},
   "source": [
    "I first called the main function. Then, I used the program to ask the user for ther full name. The program then splits the string by taking the intials of their name. It then prints their initials depending on the input of the user. Finally, I called upon the main function one last time."
   ]
  }
 ],
 "metadata": {
  "kernelspec": {
   "display_name": "Python 3 (ipykernel)",
   "language": "python",
   "name": "python3"
  },
  "language_info": {
   "codemirror_mode": {
    "name": "ipython",
    "version": 3
   },
   "file_extension": ".py",
   "mimetype": "text/x-python",
   "name": "python",
   "nbconvert_exporter": "python",
   "pygments_lexer": "ipython3",
   "version": "3.11.5"
  }
 },
 "nbformat": 4,
 "nbformat_minor": 5
}
