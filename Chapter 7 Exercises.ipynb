{
 "cells": [
  {
   "cell_type": "markdown",
   "id": "a5566398",
   "metadata": {},
   "source": [
    "# Chapter 7 Exercises"
   ]
  },
  {
   "cell_type": "markdown",
   "id": "88ab6009",
   "metadata": {},
   "source": [
    "## Algorithm Workbench - Question 1"
   ]
  },
  {
   "cell_type": "markdown",
   "id": "635051a1",
   "metadata": {},
   "source": [
    "The textbook asks us to write a statement that creates a list with the following strings: Einstein, Newton, Copernicus, and Kepler."
   ]
  },
  {
   "cell_type": "code",
   "execution_count": 6,
   "id": "f1b1c038",
   "metadata": {},
   "outputs": [
    {
     "name": "stdout",
     "output_type": "stream",
     "text": [
      "['Einstein', 'Newton', 'Copernicus', 'Kepler']\n"
     ]
    }
   ],
   "source": [
    "# Define \"name_list\"\n",
    "names_list = ['Einstein', 'Newton', 'Copernicus', 'Kepler']\n",
    "# Print the variable \"names_list\"\n",
    "print(names_list)"
   ]
  },
  {
   "cell_type": "markdown",
   "id": "81f1104a",
   "metadata": {},
   "source": [
    "I first created the list and named it \"names_list\" so that it would hold my list. I then just asked the program to print the list and it did."
   ]
  },
  {
   "cell_type": "markdown",
   "id": "387cb6d5",
   "metadata": {},
   "source": [
    "## Algorithm Workbench - Question 2"
   ]
  },
  {
   "cell_type": "markdown",
   "id": "0f1ed0f3",
   "metadata": {},
   "source": [
    "The textbook asks us to assume \"names\" references a list. Write a  loop that displays each element of the list."
   ]
  },
  {
   "cell_type": "code",
   "execution_count": 7,
   "id": "622edf55",
   "metadata": {},
   "outputs": [
    {
     "name": "stdout",
     "output_type": "stream",
     "text": [
      "Joe\n",
      "John\n",
      "Josh\n",
      "Ben\n"
     ]
    }
   ],
   "source": [
    "# Define \"names\" and store the list\n",
    "names = ['Joe', 'John', 'Josh', 'Ben']\n",
    "# Use the for statement to define the names in the list\n",
    "for element in names:\n",
    "    # Print the elements in the list\n",
    "    print(element)"
   ]
  },
  {
   "cell_type": "markdown",
   "id": "22ad1fe4",
   "metadata": {},
   "source": [
    "I first defined the variable \"names\" so that I could create a list. I then created the \"for\" loop which tells the program that each element in the list it should print it."
   ]
  },
  {
   "cell_type": "markdown",
   "id": "aa74eb7a",
   "metadata": {},
   "source": [
    "## Programming Exercise - Question 1"
   ]
  },
  {
   "cell_type": "markdown",
   "id": "9abcfc79",
   "metadata": {},
   "source": [
    "The textbook asks us to design a program that asks the user to enter a store’s sales for each day of the week. The amounts should be stored in a list. Use a loop to calculate the total sales for the week and display the result."
   ]
  },
  {
   "cell_type": "code",
   "execution_count": 15,
   "id": "cb728388",
   "metadata": {},
   "outputs": [],
   "source": [
    "# Call the main function\n",
    "def main():\n",
    "    # Use this value as an accumalator\n",
    "    total = 0.0\n",
    "    # Use this list as a basis of user input\n",
    "    daily_sales = [0.0, 0.0, 0.0, 0.0, 0.0, 0.0, 0.0]\n",
    "    index = 0\n",
    "    # Create a list that stores the days of the week into it\n",
    "    days_of_the_week = ['Sunday', 'Monday', 'Tuesday', 'Wednsday', 'Thursday', 'Friday', 'Saturday']\n",
    "\n"
   ]
  },
  {
   "cell_type": "markdown",
   "id": "1ccbc561",
   "metadata": {},
   "source": []
  }
 ],
 "metadata": {
  "kernelspec": {
   "display_name": "Python 3 (ipykernel)",
   "language": "python",
   "name": "python3"
  },
  "language_info": {
   "codemirror_mode": {
    "name": "ipython",
    "version": 3
   },
   "file_extension": ".py",
   "mimetype": "text/x-python",
   "name": "python",
   "nbconvert_exporter": "python",
   "pygments_lexer": "ipython3",
   "version": "3.11.5"
  }
 },
 "nbformat": 4,
 "nbformat_minor": 5
}
