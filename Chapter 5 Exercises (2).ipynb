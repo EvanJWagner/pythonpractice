{
 "cells": [
  {
   "cell_type": "markdown",
   "id": "1c33e85b",
   "metadata": {},
   "source": [
    "# Chapter 5 Exercises"
   ]
  },
  {
   "cell_type": "markdown",
   "id": "5ac3b4a8",
   "metadata": {},
   "source": [
    "The textbook asks us to make a function named \"times ten\" that should accept an argument and display the argument multiplied by 10."
   ]
  },
  {
   "cell_type": "code",
   "execution_count": 9,
   "id": "290d69ec",
   "metadata": {},
   "outputs": [
    {
     "name": "stdout",
     "output_type": "stream",
     "text": [
      "600\n"
     ]
    }
   ],
   "source": [
    "\n",
    "def main():\n",
    "    value = 60\n",
    "    times_ten(value)\n",
    "\n",
    "    \n",
    "    \n",
    "def times_ten(number):\n",
    "    product = number * 10\n",
    "    print(product)\n",
    "    \n",
    "    \n",
    "main()"
   ]
  }
 ],
 "metadata": {
  "kernelspec": {
   "display_name": "Python 3 (ipykernel)",
   "language": "python",
   "name": "python3"
  },
  "language_info": {
   "codemirror_mode": {
    "name": "ipython",
    "version": 3
   },
   "file_extension": ".py",
   "mimetype": "text/x-python",
   "name": "python",
   "nbconvert_exporter": "python",
   "pygments_lexer": "ipython3",
   "version": "3.11.5"
  }
 },
 "nbformat": 4,
 "nbformat_minor": 5
}
