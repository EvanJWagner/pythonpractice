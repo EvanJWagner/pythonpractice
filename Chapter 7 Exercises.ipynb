{
 "cells": [
  {
   "cell_type": "markdown",
   "id": "c2d5cd9d",
   "metadata": {},
   "source": [
    "# Chapter 7 Exercises"
   ]
  },
  {
   "cell_type": "markdown",
   "id": "288c9e14",
   "metadata": {},
   "source": [
    "## Algorithm Workbench - Question 1"
   ]
  },
  {
   "cell_type": "markdown",
   "id": "e85eed8c",
   "metadata": {},
   "source": [
    "The textbook asks us to write a statement that creates a list with the following strings: Einstein, Newton, Copernicus, and Kepler."
   ]
  },
  {
   "cell_type": "code",
   "execution_count": 4,
   "id": "7dfa7ef4",
   "metadata": {},
   "outputs": [
    {
     "name": "stdout",
     "output_type": "stream",
     "text": [
      "['Einstein', 'Newton', 'Copernicus', 'Kepler']\n"
     ]
    }
   ],
   "source": [
    "names_list = ['Einstein', 'Newton', 'Copernicus', 'Kepler']\n",
    "\n",
    "print(names_list)"
   ]
  },
  {
   "cell_type": "markdown",
   "id": "1cdcce4b",
   "metadata": {},
   "source": [
    "I first created the list and named it \"names_list\" so that it would hold my list. I then just asked the program to print the list and it did."
   ]
  },
  {
   "cell_type": "code",
   "execution_count": null,
   "id": "8ec58f06",
   "metadata": {},
   "outputs": [],
   "source": []
  }
 ],
 "metadata": {
  "kernelspec": {
   "display_name": "Python 3 (ipykernel)",
   "language": "python",
   "name": "python3"
  },
  "language_info": {
   "codemirror_mode": {
    "name": "ipython",
    "version": 3
   },
   "file_extension": ".py",
   "mimetype": "text/x-python",
   "name": "python",
   "nbconvert_exporter": "python",
   "pygments_lexer": "ipython3",
   "version": "3.11.5"
  }
 },
 "nbformat": 4,
 "nbformat_minor": 5
}
