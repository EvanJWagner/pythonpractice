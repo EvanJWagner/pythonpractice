{
 "cells": [
  {
   "cell_type": "markdown",
   "id": "fc198f66",
   "metadata": {},
   "source": [
    "# Chapter 3 Exercises"
   ]
  },
  {
   "cell_type": "markdown",
   "id": "2465b57a",
   "metadata": {},
   "source": [
    "## Algoritm Workbench - 4"
   ]
  },
  {
   "cell_type": "markdown",
   "id": "8f8a4123",
   "metadata": {},
   "source": [
    "We are asked to rewrite a few nested if-else statements so that the code runs perfectly."
   ]
  },
  {
   "cell_type": "code",
   "execution_count": 1,
   "id": "8fd074d5",
   "metadata": {},
   "outputs": [
    {
     "name": "stdout",
     "output_type": "stream",
     "text": [
      "Please enter your score:62\n",
      "Your grade is a D\n"
     ]
    }
   ],
   "source": [
    "# Ask the user for their score\n",
    "score = int(input(\"Please enter your score:\"))\n",
    "\n",
    "A_score = 90\n",
    "B_score = 80\n",
    "C_score = 70 \n",
    "D_score = 60\n",
    "# Determine letter grade\n",
    "if score >= A_score:\n",
    "    print(\"Your grade is a A.\")\n",
    "else:\n",
    "    if score >= B_score:\n",
    "        print(\"Your grade is a B.\")\n",
    "    else:\n",
    "        if score >= C_score:\n",
    "            print(\"Your grade is a C\")\n",
    "        else:\n",
    "            if score >= D_score:\n",
    "                print(\"Your grade is a D\")\n",
    "            else:\n",
    "                print(\"You grade is a F. You have failed.\")"
   ]
  },
  {
   "cell_type": "markdown",
   "id": "de7ec3fa",
   "metadata": {},
   "source": [
    "I finally entered \"if\" and \"else\" statements to get the user their final score. I also used variables\n",
    "that allowed me to know what each letter grade was and then put in the code that whatever score you got had to be greater that or equal to that score. Then once the user put in their score it prints what score the user recieved."
   ]
  },
  {
   "cell_type": "markdown",
   "id": "119cb645",
   "metadata": {},
   "source": [
    "## Algorithm Workbench - 5"
   ]
  },
  {
   "cell_type": "markdown",
   "id": "ea9efcb9",
   "metadata": {},
   "source": [
    "We are asked to perform nested functions that use the greater than function to figure out a variable."
   ]
  },
  {
   "cell_type": "code",
   "execution_count": 12,
   "id": "647bfee9",
   "metadata": {},
   "outputs": [
    {
     "name": "stdout",
     "output_type": "stream",
     "text": [
      "Enter amount 1:63\n",
      "Enter amount 2:42\n",
      "Amount 1 is greater\n"
     ]
    }
   ],
   "source": [
    "# Ask the user for amounts 1 and 2\n",
    "amount1 = int(input(\"Enter amount 1:\"))\n",
    "amount2 = int(input(\"Enter amount 2:\"))\n",
    "\n",
    "# Determine which amount is greater\n",
    "if amount1 >= 10 and amount2 <= 100:\n",
    "     if amount1 > amount2:\n",
    "        print(\"Amount 1 is greater\")\n",
    "elif amount2 > amount1:\n",
    "        print(\"Amount 2 is greater\")"
   ]
  },
  {
   "cell_type": "markdown",
   "id": "87e728a4",
   "metadata": {},
   "source": [
    "I first asked the user for amounts 1 and 2. This then allows me to input the code that can determine which amount is greater. I used \"if\" and \"elif\" statements so the program knows what to expect. Once the user inputs both numbers the program outputs which number is greater."
   ]
  }
 ],
 "metadata": {
  "kernelspec": {
   "display_name": "Python 3 (ipykernel)",
   "language": "python",
   "name": "python3"
  },
  "language_info": {
   "codemirror_mode": {
    "name": "ipython",
    "version": 3
   },
   "file_extension": ".py",
   "mimetype": "text/x-python",
   "name": "python",
   "nbconvert_exporter": "python",
   "pygments_lexer": "ipython3",
   "version": "3.11.5"
  }
 },
 "nbformat": 4,
 "nbformat_minor": 5
}
