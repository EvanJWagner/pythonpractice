{
 "cells": [
  {
   "cell_type": "markdown",
   "id": "cad6c5d0",
   "metadata": {},
   "source": [
    "# Chapter 2 Exercises"
   ]
  },
  {
   "cell_type": "markdown",
   "id": "3fb37b7c",
   "metadata": {},
   "source": [
    "## Algorithm Workbench - 4\n",
    "We are asked to use variables to create multiple problems"
   ]
  },
  {
   "cell_type": "code",
   "execution_count": 1,
   "id": "8d043b42",
   "metadata": {},
   "outputs": [],
   "source": [
    ">>> w = 5\n",
    ">>> x = 4\n",
    ">>> y = 8\n",
    ">>> z = 2"
   ]
  },
  {
   "cell_type": "markdown",
   "id": "f853e509",
   "metadata": {},
   "source": [
    "Once I stated the code, I then made sure my code was correct and it printed each variable correctly"
   ]
  },
  {
   "cell_type": "code",
   "execution_count": 2,
   "id": "c2c7d00c",
   "metadata": {},
   "outputs": [
    {
     "name": "stdout",
     "output_type": "stream",
     "text": [
      "5\n"
     ]
    }
   ],
   "source": [
    "print(w)"
   ]
  },
  {
   "cell_type": "code",
   "execution_count": 3,
   "id": "84b51198",
   "metadata": {},
   "outputs": [
    {
     "name": "stdout",
     "output_type": "stream",
     "text": [
      "4\n"
     ]
    }
   ],
   "source": [
    "print(x)"
   ]
  },
  {
   "cell_type": "code",
   "execution_count": 4,
   "id": "aa27e2bc",
   "metadata": {},
   "outputs": [
    {
     "name": "stdout",
     "output_type": "stream",
     "text": [
      "8\n"
     ]
    }
   ],
   "source": [
    "print(8)"
   ]
  },
  {
   "cell_type": "code",
   "execution_count": 5,
   "id": "855ddf19",
   "metadata": {},
   "outputs": [
    {
     "name": "stdout",
     "output_type": "stream",
     "text": [
      "2\n"
     ]
    }
   ],
   "source": [
    "print(z)"
   ]
  },
  {
   "cell_type": "code",
   "execution_count": null,
   "id": "74724d21",
   "metadata": {},
   "outputs": [],
   "source": []
  }
 ],
 "metadata": {
  "kernelspec": {
   "display_name": "Python 3 (ipykernel)",
   "language": "python",
   "name": "python3"
  },
  "language_info": {
   "codemirror_mode": {
    "name": "ipython",
    "version": 3
   },
   "file_extension": ".py",
   "mimetype": "text/x-python",
   "name": "python",
   "nbconvert_exporter": "python",
   "pygments_lexer": "ipython3",
   "version": "3.11.5"
  }
 },
 "nbformat": 4,
 "nbformat_minor": 5
}
