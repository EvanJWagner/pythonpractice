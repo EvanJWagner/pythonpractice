{
 "cells": [
  {
   "cell_type": "markdown",
   "id": "1c33e85b",
   "metadata": {},
   "source": [
    "# Chapter 5 Exercises"
   ]
  },
  {
   "cell_type": "markdown",
   "id": "5ac3b4a8",
   "metadata": {},
   "source": [
    "The textbook asks us to make a function named \"times ten\" that should accept an argument and display the argument multiplied by 10."
   ]
  },
  {
   "cell_type": "code",
   "execution_count": 9,
   "id": "290d69ec",
   "metadata": {},
   "outputs": [
    {
     "name": "stdout",
     "output_type": "stream",
     "text": [
      "600\n"
     ]
    }
   ],
   "source": [
    "# Define the main function and the variables to get the final answer\n",
    "def main():\n",
    "    value = 60\n",
    "    times_ten(value)\n",
    "\n",
    "    \n",
    "# Define times_ten so the argument can be passed down to multiply by 10    \n",
    "def times_ten(number):\n",
    "    product = number * 10\n",
    "    print(product)\n",
    "    \n",
    "# Call the main function   \n",
    "main()"
   ]
  },
  {
   "cell_type": "markdown",
   "id": "825c51cf",
   "metadata": {},
   "source": [
    "I used the \"main\" function so it would be able to be passed down to the \"times ten\" function so that once it gets ran it multiplies the argument and you can get the final answer once you call on it again."
   ]
  },
  {
   "cell_type": "code",
   "execution_count": null,
   "id": "1cc1ba5a",
   "metadata": {},
   "outputs": [],
   "source": []
  }
 ],
 "metadata": {
  "kernelspec": {
   "display_name": "Python 3 (ipykernel)",
   "language": "python",
   "name": "python3"
  },
  "language_info": {
   "codemirror_mode": {
    "name": "ipython",
    "version": 3
   },
   "file_extension": ".py",
   "mimetype": "text/x-python",
   "name": "python",
   "nbconvert_exporter": "python",
   "pygments_lexer": "ipython3",
   "version": "3.11.5"
  }
 },
 "nbformat": 4,
 "nbformat_minor": 5
}
