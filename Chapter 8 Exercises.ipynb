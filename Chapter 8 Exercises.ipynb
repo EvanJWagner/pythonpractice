{
 "cells": [
  {
   "cell_type": "markdown",
   "id": "33997aae",
   "metadata": {},
   "source": [
    "# Chapter 8 Exercises"
   ]
  },
  {
   "cell_type": "markdown",
   "id": "a7e20651",
   "metadata": {},
   "source": [
    "## Algorithm Workbench - Question 2"
   ]
  },
  {
   "cell_type": "markdown",
   "id": "976649a7",
   "metadata": {},
   "source": [
    "The textbook asks us to write a loop that counts the number of space characters that appear in the string referenced by \"mystring\"."
   ]
  },
  {
   "cell_type": "code",
   "execution_count": 16,
   "id": "982c6214",
   "metadata": {},
   "outputs": [
    {
     "name": "stdout",
     "output_type": "stream",
     "text": [
      "Number of space characters in the string: 5\n"
     ]
    }
   ],
   "source": [
    "# Define the \"mystring\" variable\n",
    "my_string = \"This is a string with spaces.\"\n",
    "# Tell the program to count the spaces in the variable\n",
    "count_spaces = 0\n",
    "# Tell the program that for every space count up \n",
    "for char in my_string:\n",
    "\n",
    "    if char == \" \":\n",
    "       # Count up by one everytime there is a space\n",
    "       count_spaces += 1\n",
    "# Print the number of spaces in the string and tell the user\n",
    "print(\"Number of space characters in the string:\", count_spaces)"
   ]
  },
  {
   "cell_type": "markdown",
   "id": "43805ab9",
   "metadata": {},
   "source": [
    "I first defined the \"mystring\" variable. I then used the program to count the amount of spaces in the string. Next, I told the program to count the amount of spaces up by 1 everytime there is a space in the string. Finally, the program tells the user the number of spaces in the string by using the print function."
   ]
  },
  {
   "cell_type": "markdown",
   "id": "b959b672",
   "metadata": {},
   "source": [
    "## Algorithm Workbench - Question 3"
   ]
  },
  {
   "cell_type": "markdown",
   "id": "3ea11b20",
   "metadata": {},
   "source": [
    "The textbook asks us to write a loop that counts the number of digits that appear in the string referenced by \"mystring\"."
   ]
  },
  {
   "cell_type": "code",
   "execution_count": 27,
   "id": "81cd237f",
   "metadata": {},
   "outputs": [
    {
     "name": "stdout",
     "output_type": "stream",
     "text": [
      "Number of digits: 10\n"
     ]
    }
   ],
   "source": [
    "# Define the \"mystring\" variable\n",
    "my_string = \"e4o9f3kfifdo383db474g0\"\n",
    "# Tell the program to count the digits in the variable\n",
    "digit_count = 0\n",
    "# Tell the program that for every digit count up\n",
    "for char in my_string:\n",
    "\n",
    "   if char.isdigit():\n",
    "       # Count up everytime there is a digit in the string\n",
    "       digit_count += 1\n",
    "# Print the number of digits in the string and tell the user\n",
    "print(\"Number of digits:\", digit_count)"
   ]
  },
  {
   "cell_type": "markdown",
   "id": "f286b5d5",
   "metadata": {},
   "source": [
    "I first defined the \"mystring\" variable. I then used the program to count the amount of digits in the string. Next, I told the program to count the amount of digits up by 1 everytime there is a number in the string. Finally, the program tells the user the number of digits in the string by using the print function."
   ]
  },
  {
   "cell_type": "markdown",
   "id": "72904cb1",
   "metadata": {},
   "source": [
    "## Programming Exercises - Question 1"
   ]
  },
  {
   "cell_type": "markdown",
   "id": "9602e61e",
   "metadata": {},
   "source": [
    "The textbook asks us write a program that gets a string containing a person’s first, middle, and last names, and displays their first, middle, and last initials. "
   ]
  },
  {
   "cell_type": "code",
   "execution_count": 33,
   "id": "30f08ccc",
   "metadata": {},
   "outputs": [],
   "source": [
    "# Define and call the main function\n",
    "def main():     \n",
    "    # Ask the user for their name     \n",
    "    full_name = input ('Enter your full name: ')      \n"
   ]
  },
  {
   "cell_type": "code",
   "execution_count": null,
   "id": "279f8d2e",
   "metadata": {},
   "outputs": [],
   "source": []
  }
 ],
 "metadata": {
  "kernelspec": {
   "display_name": "Python 3 (ipykernel)",
   "language": "python",
   "name": "python3"
  },
  "language_info": {
   "codemirror_mode": {
    "name": "ipython",
    "version": 3
   },
   "file_extension": ".py",
   "mimetype": "text/x-python",
   "name": "python",
   "nbconvert_exporter": "python",
   "pygments_lexer": "ipython3",
   "version": "3.11.5"
  }
 },
 "nbformat": 4,
 "nbformat_minor": 5
}
