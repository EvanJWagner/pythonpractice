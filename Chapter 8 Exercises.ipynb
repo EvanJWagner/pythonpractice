{
 "cells": [
  {
   "cell_type": "markdown",
   "id": "7a691df5",
   "metadata": {},
   "source": [
    "# Chapter 8 Exercises"
   ]
  },
  {
   "cell_type": "markdown",
   "id": "18e904d4",
   "metadata": {},
   "source": [
    "## Algorithm Workbench - Question 2"
   ]
  },
  {
   "cell_type": "markdown",
   "id": "5e514e7f",
   "metadata": {},
   "source": [
    "The textbook asks us to write a loop that counts the number of space characters that appear in the string referenced by \"mystring\"."
   ]
  },
  {
   "cell_type": "code",
   "execution_count": 16,
   "id": "b0c86e2d",
   "metadata": {},
   "outputs": [
    {
     "name": "stdout",
     "output_type": "stream",
     "text": [
      "Number of space characters in the string: 5\n"
     ]
    }
   ],
   "source": [
    "# Define the \"mystring\" variable\n",
    "my_string = \"This is a string with spaces.\"\n",
    "# Tell the program to count the spaces in the variable\n",
    "count_spaces = 0\n",
    "# Tell the program that for every space count up \n",
    "for char in my_string:\n",
    "\n",
    "    if char == \" \":\n",
    "       # Count up by one everytime there is a space\n",
    "       count_spaces += 1\n",
    "# Print the number of spaces in the string and tell the user\n",
    "print(\"Number of space characters in the string:\", count_spaces)"
   ]
  },
  {
   "cell_type": "markdown",
   "id": "a93b3ba1",
   "metadata": {},
   "source": [
    "I first defined the \"mystring\" variable. I then used the program to count the amount of spaces in the string. Next, I told the program to count the amount of spaces up by 1 everytime there is a space in the string. Finally, the program tells the user the number of spaces in the string by using the print function."
   ]
  },
  {
   "cell_type": "markdown",
   "id": "b6c6abf8",
   "metadata": {},
   "source": [
    "## Algorithm Workbench - Question 3"
   ]
  },
  {
   "cell_type": "markdown",
   "id": "d8fe9bb0",
   "metadata": {},
   "source": [
    "The textbook asks us to write a loop that counts the number of digits that appear in the string referenced by \"mystring\"."
   ]
  },
  {
   "cell_type": "code",
   "execution_count": 27,
   "id": "8aed163b",
   "metadata": {},
   "outputs": [
    {
     "name": "stdout",
     "output_type": "stream",
     "text": [
      "Number of digits: 10\n"
     ]
    }
   ],
   "source": [
    "# Define the \"mystring\" variable\n",
    "my_string = \"e4o9f3kfifdo383db474g0\"\n",
    "# Tell the program to count the digits in the variable\n",
    "digit_count = 0\n",
    "# Tell the program that for every digit count up\n",
    "for char in my_string:\n",
    "\n",
    "   if char.isdigit():\n",
    "       # Count up everytime there is a digit in the string\n",
    "       digit_count += 1\n",
    "# Print the number of digits in the string and tell the user\n",
    "print(\"Number of digits:\", digit_count)"
   ]
  },
  {
   "cell_type": "markdown",
   "id": "ebb98842",
   "metadata": {},
   "source": [
    "I first defined the \"mystring\" variable. I then used the program to count the amount of digits in the string. Next, I told the program to count the amount of digits up by 1 everytime there is a number in the string. Finally, the program tells the user the number of digits in the string by using the print function."
   ]
  },
  {
   "cell_type": "markdown",
   "id": "d86c168a",
   "metadata": {},
   "source": [
    "## Programming Exercises - Question 1"
   ]
  },
  {
   "cell_type": "markdown",
   "id": "8828c02d",
   "metadata": {},
   "source": [
    "The textbook asks us write a program that gets a string containing a person’s first, middle, and last names, and displays their first, middle, and last initials. "
   ]
  },
  {
   "cell_type": "code",
   "execution_count": 35,
   "id": "599c422f",
   "metadata": {},
   "outputs": [
    {
     "name": "stdout",
     "output_type": "stream",
     "text": [
      ".Enter your full name, first, middle, and last: Evan Joseph Wagner\n",
      "EJW"
     ]
    }
   ],
   "source": [
    "# Define and call the main function\n",
    "def main():     \n",
    "    # Ask the user for their name     \n",
    "    full_name = input (\"Enter your full name, first, middle, and last: \")      \n",
    "    # Split the string according to spaces between the users name    \n",
    "    name = full_name.split()      \n",
    "    # The first character of each name is an initial     \n",
    "    for string in name:         print(string[0].upper(), sep='', end='')         \n",
    "print('.', sep=' ', end='')  \n",
    "# Call the main function. \n",
    "main()"
   ]
  },
  {
   "cell_type": "markdown",
   "id": "a77bc28b",
   "metadata": {},
   "source": [
    "I first called the main function. Then, I used the program to ask the user for ther full name. The program then splits the string by taking the intials of their name. It then prints their initials depending on the input of the user. Finally, I called upon the main function one last time."
   ]
  },
  {
   "cell_type": "markdown",
   "id": "fd753c35",
   "metadata": {},
   "source": [
    "## Programming Exercises - Question 2"
   ]
  },
  {
   "cell_type": "markdown",
   "id": "d392b72a",
   "metadata": {},
   "source": [
    "The textbook asks us to write a program that asks the user to enter a series of single-digit numbers with nothing separating them. The program should display the sum of all the single digit numbers in the string."
   ]
  },
  {
   "cell_type": "code",
   "execution_count": 1,
   "id": "d7fb62d2",
   "metadata": {},
   "outputs": [
    {
     "name": "stdout",
     "output_type": "stream",
     "text": [
      "Enter a series of single-digit numbers: 43567895421\n",
      "The sum of the single-digit numbers is: 54\n"
     ]
    }
   ],
   "source": [
    "# Define the variable and ask the user for a series of single digit numbers\n",
    "digits_string = input(\"Enter a series of single-digit numbers: \")\n",
    "sum_of_digits = 0\n",
    "# Tell th program to add the digits up one by one \n",
    "for digit in digits_string:\n",
    "    sum_of_digits += int(digit)\n",
    "# Print the sum of digits that the user input\n",
    "print(\"The sum of the single-digit numbers is:\", sum_of_digits)"
   ]
  },
  {
   "cell_type": "markdown",
   "id": "9b76becb",
   "metadata": {},
   "source": [
    "I first defined the variable that asks the user to input a series of single digit numbers. I then tell the program to add up the digits in the string. Finally, the program prints the sum of the digits the user inputs back to the user."
   ]
  },
  {
   "cell_type": "markdown",
   "id": "c814cf01",
   "metadata": {},
   "source": [
    "## Programming Exercises - Question 3"
   ]
  },
  {
   "cell_type": "markdown",
   "id": "db6a235d",
   "metadata": {},
   "source": [
    "The textbook asks us to write a program that reads a string from the user containing a date in the form mm/dd/yyyy."
   ]
  },
  {
   "cell_type": "code",
   "execution_count": 1,
   "id": "6d508197",
   "metadata": {},
   "outputs": [
    {
     "name": "stdout",
     "output_type": "stream",
     "text": [
      "What is the date, mm/dd/yyyy: 02/27/2024\n",
      "February 27, 2024\n"
     ]
    }
   ],
   "source": [
    "# Compile all the months so the program can decipher which month the user input\n",
    "monthList = [\"January\",\"February\",\"March\",\"April\",\"May\",\"June\",\"July\",\"August\",\"September\",\"October\",\"November\",\"December\"]\n",
    "\n",
    "# Ask the user for todays date\n",
    "\n",
    "date = input(\"What is the date, mm/dd/yyyy: \")\n",
    "\n",
    "# This uses the list from above to decipher the month input by the user\n",
    "\n",
    "month = monthList[int(date[0:2]) - 1]\n",
    "\n",
    "# This prints the date that the user input\n",
    "\n",
    "print(month+\" \"+date[3:5]+\", \"+date[6:10])"
   ]
  },
  {
   "cell_type": "markdown",
   "id": "ded42f3b",
   "metadata": {},
   "source": [
    "I first defined all the months and put them into a list so the program can get the month that the user inputs. Next, the program asks the user for the date in the specific form. Next, the program deciphers the month from the input of the user. Finally, it prints the date that the user input in the specified form."
   ]
  },
  {
   "cell_type": "markdown",
   "id": "372b0e0c",
   "metadata": {},
   "source": [
    "## Programming Exercises - Question 10"
   ]
  },
  {
   "cell_type": "markdown",
   "id": "9d528873",
   "metadata": {},
   "source": [
    "The textbook asks us to write a program that lets the user enter a string and displays the character that appears most frequently in the string."
   ]
  },
  {
   "cell_type": "code",
   "execution_count": 7,
   "id": "4ac2f982",
   "metadata": {},
   "outputs": [
    {
     "name": "stdout",
     "output_type": "stream",
     "text": [
      "Enter a sentence: The woman and the man went out to eat at a fancy restaurant.\n",
      "The most frequent character is t and it appears 9 times.\n"
     ]
    }
   ],
   "source": [
    "# Define and call upon the main function\n",
    "def main():\n",
    "# Ask the user to input a sentence\n",
    "    string = input('Enter a sentence: ')\n",
    "# Make sure the program doesn't count the spaces as characters only the letters\n",
    "    string = string.lower()\n",
    "    string = string.replace(\" \", \"\")\n",
    "\n",
    "    string.lower()\n",
    "# Count the amount of characters used in the sentence\n",
    "    counter = 0\n",
    "    total_counter = 0\n",
    "# Define the variable the will be the most used character\n",
    "    most_frequent_character = \"\"\n",
    "\n",
    "    for ch in string:\n",
    "        for str in string:\n",
    "            if str == ch:\n",
    "# Count the total characters used in the sentence input by the user and figure out the most frequent character\n",
    "                counter += 1\n",
    "        if counter > total_counter:\n",
    "            total_counter = counter\n",
    "            most_frequent_character = ch\n",
    "        counter = 0\n",
    "# Tell the user what the most frequent character that is used in the snetence and tell them how many times it appears\n",
    "    print(\"The most frequent character is\", most_frequent_character, \"and it appears\", total_counter, \"times.\")\n",
    "# Call upon the main function\n",
    "main()"
   ]
  },
  {
   "cell_type": "markdown",
   "id": "4d1258e7",
   "metadata": {},
   "source": [
    "I first called upon the main function. Then, I ask the user to input a sentence so the program can figure out the most frequent character. Next, I make sure the program doesn't count spaces as a most frequent character. Next, it counts the characters and begins to decipher which one is used the most out of all the characters in the input sentence. Finally, it calculates the most frequent character and tells the user what it is and how many times it was seen throughout the entire sentence. Lastly, the main function is called upon once more."
   ]
  }
 ],
 "metadata": {
  "kernelspec": {
   "display_name": "Python 3 (ipykernel)",
   "language": "python",
   "name": "python3"
  },
  "language_info": {
   "codemirror_mode": {
    "name": "ipython",
    "version": 3
   },
   "file_extension": ".py",
   "mimetype": "text/x-python",
   "name": "python",
   "nbconvert_exporter": "python",
   "pygments_lexer": "ipython3",
   "version": "3.11.5"
  }
 },
 "nbformat": 4,
 "nbformat_minor": 5
}
