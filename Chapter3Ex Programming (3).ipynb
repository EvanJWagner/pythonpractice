{
 "cells": [
  {
   "cell_type": "markdown",
   "id": "8d2efb98",
   "metadata": {},
   "source": [
    "# Chapter 3 Exercises"
   ]
  },
  {
   "cell_type": "markdown",
   "id": "7800056c",
   "metadata": {},
   "source": [
    "## Programming Exercises - 1,5,15,17"
   ]
  },
  {
   "cell_type": "markdown",
   "id": "755270b3",
   "metadata": {},
   "source": [
    "### Question 1 Day of the week"
   ]
  },
  {
   "cell_type": "markdown",
   "id": "ef780803",
   "metadata": {},
   "source": [
    "We are asked to conduct a program that applies a number 1-7 to a specific day of the week. If the user doesn't put in a number 1-7 we must have an error message."
   ]
  },
  {
   "cell_type": "code",
   "execution_count": 17,
   "id": "a7e66757",
   "metadata": {
    "scrolled": true
   },
   "outputs": [
    {
     "name": "stdout",
     "output_type": "stream",
     "text": [
      "Enter weekday day number (1-7) : 8\n",
      "Error: Please enter weekday number between 1-7.\n"
     ]
    }
   ],
   "source": [
    "# Ask the user for a number between 1-7\n",
    "weekday = int(input(\"Enter weekday day number (1-7) : \"))\n",
    "\n",
    "if weekday == 1 :\n",
    "    print(\"Monday\");\n",
    "\n",
    "elif weekday == 2 :\n",
    "    print(\"Tuesday\")\n",
    "\n",
    "elif(weekday == 3) :\n",
    "    print(\"Wednesday\")\n",
    "\n",
    "elif(weekday == 4) :\n",
    "    print(\"Thursday\")\n",
    "\n",
    "elif(weekday == 5) :\n",
    "    print(\"Friday\")\n",
    "\n",
    "elif(weekday == 6) :\n",
    "    print(\"Saturday\")\n",
    "\n",
    "elif (weekday == 7) :\n",
    "    print(\"Sunday\")\n",
    "\n",
    "# If the user inputs a number not between 1-7 display this message\n",
    "else :\n",
    "    print(\"Error: Please enter weekday number between 1-7.\")"
   ]
  },
  {
   "cell_type": "markdown",
   "id": "cdf65881",
   "metadata": {},
   "source": [
    "I entered some code using the \"if\" , \"elif\" , and \"else\" code that allows the user to input a number 1-7 and it outputs that day. However, because the user input 8 it produced an error message and tells them to put in a number 1-7."
   ]
  },
  {
   "cell_type": "markdown",
   "id": "5ba665c3",
   "metadata": {},
   "source": [
    "### Question 5 Mass and Weight"
   ]
  },
  {
   "cell_type": "markdown",
   "id": "57abfc79",
   "metadata": {},
   "source": [
    "We are asked to write a program where if the user enters mass the program can calculate its weight.But also display a message if the weighed object is too heavy or to light."
   ]
  },
  {
   "cell_type": "code",
   "execution_count": 27,
   "id": "e641172c",
   "metadata": {},
   "outputs": [
    {
     "name": "stdout",
     "output_type": "stream",
     "text": [
      "Please enter the objects mass: 10\n",
      "The objects weight is =  98.0\n",
      "This object is too light\n"
     ]
    }
   ],
   "source": [
    "# Ask the user for the objects weight\n",
    "mass = float(input('Please enter the objects mass: '))\n",
    "\n",
    "weight = mass * 9.8\n",
    "print('The objects weight is = ' , weight)\n",
    "if weight < 100:\n",
    "    print(\"This object is too light\")\n",
    "elif weight > 500: \n",
    "    print(\"This object is too heavy\")"
   ]
  },
  {
   "cell_type": "markdown",
   "id": "b069353f",
   "metadata": {},
   "source": [
    "I asked the user for the mass of the object which then allows the input from the user to go straight into the weight equation I put in the code. This then performs the math and depending on if the object is over 500 newtons or below 100 newtons stating if the object is too heavy or too light. "
   ]
  },
  {
   "cell_type": "markdown",
   "id": "8a4adf6a",
   "metadata": {},
   "source": [
    "### Question 15 February Days"
   ]
  },
  {
   "cell_type": "markdown",
   "id": "51867e9e",
   "metadata": {},
   "source": [
    "We are asked to create a program that is able to calculate if February has 28 or 29 days depending on the the year entered."
   ]
  },
  {
   "cell_type": "code",
   "execution_count": 10,
   "id": "fd97b4ec",
   "metadata": {},
   "outputs": [
    {
     "name": "stdout",
     "output_type": "stream",
     "text": [
      "Please enter the year:2014\n",
      "2014 is not a leap year\n"
     ]
    }
   ],
   "source": [
    "# Ask the user for the year\n",
    "year = int(input(\"Please enter the year:\"))\n",
    "\n",
    "# Do the calculations to figure out if user input is or is not a leap year\n",
    "if(year%400 == 0):\n",
    "    print(\"%d is a leap year\" %year)\n",
    "elif(year%100 == 0):\n",
    "    print(\"%d is not a leap year\" %year)\n",
    "elif(year%4 == 0):\n",
    "    print(\"%d is a leap year\" %year)\n",
    "else:\n",
    "    print(\"%d is not a leap year\" %year)"
   ]
  },
  {
   "cell_type": "markdown",
   "id": "1ace551b",
   "metadata": {},
   "source": [
    "I performed some code that included the use of the \"elif\" function to allow phython to compute wether or not 2014 is a leap year. By doing this the code allows the user to put in some code and it will compute if input is a leap year or not."
   ]
  },
  {
   "cell_type": "markdown",
   "id": "7f24a24e",
   "metadata": {},
   "source": [
    "### Question 17 Restuarant Selector"
   ]
  },
  {
   "cell_type": "markdown",
   "id": "52ae8d2c",
   "metadata": {},
   "source": [
    "We are asked to create a program that asks the users if they are vegetarian, vegan, or gluten free. With the input from the user it will allow us to narrow down what restuarant we could take everybody to for the reunion"
   ]
  },
  {
   "cell_type": "code",
   "execution_count": 2,
   "id": "e4f86670",
   "metadata": {},
   "outputs": [
    {
     "name": "stdout",
     "output_type": "stream",
     "text": [
      "Is anyone in your party a vegetarian?\n",
      "yes\n"
     ]
    }
   ],
   "source": [
    "# check if there is vegetarian restrictions\n",
    "print(\"Is anyone in your party a vegetarian?\")\n",
    "vegetarian = input().lower()"
   ]
  },
  {
   "cell_type": "code",
   "execution_count": 3,
   "id": "91bcc796",
   "metadata": {},
   "outputs": [
    {
     "name": "stdout",
     "output_type": "stream",
     "text": [
      "Is anyone in your party a vegan?\n",
      "no\n"
     ]
    }
   ],
   "source": [
    "# check if there is vegan restrictions\n",
    "print(\"Is anyone in your party a vegan?\")\n",
    "vegan = input().lower()"
   ]
  },
  {
   "cell_type": "code",
   "execution_count": 4,
   "id": "ad2c5abf",
   "metadata": {},
   "outputs": [
    {
     "name": "stdout",
     "output_type": "stream",
     "text": [
      "Is anyone in your party gluten-free\n",
      "no\n"
     ]
    }
   ],
   "source": [
    "# check if there is gluten-free restrictions\n",
    "print(\"Is anyone in your party gluten-free\") \n",
    "glutenfree = input().lower()"
   ]
  },
  {
   "cell_type": "markdown",
   "id": "219e52e9",
   "metadata": {},
   "source": [
    "I first entered simple code that allows the user to enter \"yes\" or \"no\" to the questions first just to see what would be the output if done correctly. Now, I will enter text that will be an output no matter what the input is because it will be the same everytime."
   ]
  },
  {
   "cell_type": "code",
   "execution_count": 5,
   "id": "87ce87c7",
   "metadata": {},
   "outputs": [
    {
     "name": "stdout",
     "output_type": "stream",
     "text": [
      "Here are your restuarant choices:\n",
      "Main Street Pizza Company\n",
      "Mama's Fine Italian\n",
      "Corner Cafe\n",
      "The Chef's Kitchen\n"
     ]
    }
   ],
   "source": [
    "# Give summary of restuarant choices\n",
    "print(\"Here are your restuarant choices:\")\n",
    "\n",
    "# check if Joe's should be included in the options\n",
    "if vegetarian != \"yes\" and vegan != \"yes\" and glutenfree != \"yes\":\n",
    "    print(\"Joe's Gourmet Burgers\")\n",
    "\n",
    "# check if Main street should be included in the options\n",
    "if vegan == \"no\":\n",
    "    print(\"Main Street Pizza Company\")\n",
    "    \n",
    "# check if Mama's should be included in the options\n",
    "if vegan == \"no\" and glutenfree == \"no\":\n",
    "    print(\"Mama's Fine Italian\")\n",
    "    \n",
    "print(\"Corner Cafe\")\n",
    "print(\"The Chef's Kitchen\")"
   ]
  },
  {
   "cell_type": "markdown",
   "id": "0f987571",
   "metadata": {},
   "source": [
    "Finally, I entered the code that allows the user to input the restrictions of the party to see what restaurants best fit. Using the \"if\" code allows for the code to kick out possible restuarants depending on the restrictions that are entered above."
   ]
  }
 ],
 "metadata": {
  "kernelspec": {
   "display_name": "Python 3 (ipykernel)",
   "language": "python",
   "name": "python3"
  },
  "language_info": {
   "codemirror_mode": {
    "name": "ipython",
    "version": 3
   },
   "file_extension": ".py",
   "mimetype": "text/x-python",
   "name": "python",
   "nbconvert_exporter": "python",
   "pygments_lexer": "ipython3",
   "version": "3.11.5"
  }
 },
 "nbformat": 4,
 "nbformat_minor": 5
}
