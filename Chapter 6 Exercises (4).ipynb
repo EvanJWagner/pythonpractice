{
 "cells": [
  {
   "cell_type": "markdown",
   "id": "99d5b19a",
   "metadata": {},
   "source": [
    "# Chapter 6 Exercises"
   ]
  },
  {
   "cell_type": "markdown",
   "id": "c333b114",
   "metadata": {},
   "source": [
    "## Algorithm Workbench - Question 1"
   ]
  },
  {
   "cell_type": "markdown",
   "id": "44e7befe",
   "metadata": {},
   "source": [
    " The textbook asks us to write a program that opens an output file with the filename , writes your name to the file, then closes the file. "
   ]
  },
  {
   "cell_type": "code",
   "execution_count": 6,
   "id": "88a36248",
   "metadata": {},
   "outputs": [],
   "source": [
    "# Open the output file \n",
    "myfile = open(\"my_name.txt\", \"w\")\n",
    "# Insert your name into the output file\n",
    "myfile.write(\"Evan Wagner\")\n",
    "# Close the file once your name has been inserted into it\n",
    "myfile.close()"
   ]
  },
  {
   "cell_type": "markdown",
   "id": "aaad92a2",
   "metadata": {},
   "source": [
    "I first told the code to open a file named \"my_name.txt\", I then told it to write my name into the file. Once those two steps were completed I told the file to close."
   ]
  },
  {
   "cell_type": "markdown",
   "id": "a8fb6a04",
   "metadata": {},
   "source": [
    "## Algorithm Workbench - Question 2"
   ]
  },
  {
   "cell_type": "markdown",
   "id": "5a8cf39b",
   "metadata": {},
   "source": [
    "The textbook asks us to write a program that opens the  file that was created by the program in problem 1, reads your name from the file, displays the name on the screen, then closes the file."
   ]
  },
  {
   "cell_type": "code",
   "execution_count": 7,
   "id": "93f85132",
   "metadata": {},
   "outputs": [
    {
     "name": "stdout",
     "output_type": "stream",
     "text": [
      "Evan Wagner\n"
     ]
    }
   ],
   "source": [
    "# Open up the output file from the first problem \n",
    "myfile = open(\"my_name.txt\", \"r\")\n",
    "# Read and store the name\n",
    "name = myfile.read()\n",
    "# Print the stored name from the file\n",
    "print(name)\n",
    "# Close the file\n",
    "myfile.close()"
   ]
  },
  {
   "cell_type": "markdown",
   "id": "244a106a",
   "metadata": {},
   "source": [
    "I first told the code to open up the output file from the first problem that had the name stored in it. I then told it to read the name stored in the file and store it in this question. Next, I told the code to print the name that was stored. Finally I used the code to close the file once the name was printed."
   ]
  },
  {
   "cell_type": "markdown",
   "id": "e0b81aa4",
   "metadata": {},
   "source": [
    "## Programming Exercise - Question 1"
   ]
  },
  {
   "cell_type": "markdown",
   "id": "d846055c",
   "metadata": {},
   "source": [
    "The textbook asks us to assume a file containing a series of integers is named and exists on the computer’s disk. Write a program that displays all of the numbers in the file."
   ]
  },
  {
   "cell_type": "code",
   "execution_count": 4,
   "id": "fd35ba79",
   "metadata": {},
   "outputs": [],
   "source": [
    "# Open the file\n",
    "myfile = open(\"numbers.txt\", \"r\")\n",
    "\n",
    "# Read and display the numbers on the file\n",
    "for line in myfile:\n",
    "    number = int(line)\n"
   ]
  },
  {
   "cell_type": "markdown",
   "id": "1641918b",
   "metadata": {},
   "source": []
  }
 ],
 "metadata": {
  "kernelspec": {
   "display_name": "Python 3 (ipykernel)",
   "language": "python",
   "name": "python3"
  },
  "language_info": {
   "codemirror_mode": {
    "name": "ipython",
    "version": 3
   },
   "file_extension": ".py",
   "mimetype": "text/x-python",
   "name": "python",
   "nbconvert_exporter": "python",
   "pygments_lexer": "ipython3",
   "version": "3.11.5"
  }
 },
 "nbformat": 4,
 "nbformat_minor": 5
}
