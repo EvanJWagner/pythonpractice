{
 "cells": [
  {
   "cell_type": "markdown",
   "id": "73282fca",
   "metadata": {},
   "source": [
    "# Chapter 7 Exercises"
   ]
  },
  {
   "cell_type": "markdown",
   "id": "bbf68c75",
   "metadata": {},
   "source": [
    "## Algorithm Workbench - Question 1"
   ]
  },
  {
   "cell_type": "markdown",
   "id": "5e39d002",
   "metadata": {},
   "source": [
    "The textbook asks us to write a statement that creates a list with the following strings: Einstein, Newton, Copernicus, and Kepler."
   ]
  },
  {
   "cell_type": "code",
   "execution_count": 4,
   "id": "fb3da8bb",
   "metadata": {},
   "outputs": [
    {
     "name": "stdout",
     "output_type": "stream",
     "text": [
      "['Einstein', 'Newton', 'Copernicus', 'Kepler']\n"
     ]
    }
   ],
   "source": [
    "names_list = ['Einstein', 'Newton', 'Copernicus', 'Kepler']\n",
    "\n",
    "print(names_list)"
   ]
  },
  {
   "cell_type": "markdown",
   "id": "6b573dd0",
   "metadata": {},
   "source": [
    "I first created the list and named it \"names_list\" so that it would hold my list. I then just asked the program to print the list and it did."
   ]
  },
  {
   "cell_type": "markdown",
   "id": "48b6d3a4",
   "metadata": {},
   "source": [
    "## Algorithm Workbench - Question 2"
   ]
  },
  {
   "cell_type": "markdown",
   "id": "c06b39af",
   "metadata": {},
   "source": [
    "The textbook asks us to assume \"names\" references a list. Write a  loop that displays each element of the list."
   ]
  },
  {
   "cell_type": "code",
   "execution_count": 5,
   "id": "66f6458b",
   "metadata": {},
   "outputs": [
    {
     "name": "stdout",
     "output_type": "stream",
     "text": [
      "Joe\n",
      "John\n",
      "Josh\n",
      "Ben\n"
     ]
    }
   ],
   "source": [
    "names = ['Joe', 'John', 'Josh', 'Ben']\n",
    "for element in names:\n",
    "    print(element)"
   ]
  },
  {
   "cell_type": "markdown",
   "id": "6c52e057",
   "metadata": {},
   "source": [
    "I first defined the variable \"names\" so that I could create a list. I then created the \"for\" loop which tells the program that each element in the list it should print it."
   ]
  },
  {
   "cell_type": "code",
   "execution_count": null,
   "id": "20f055f0",
   "metadata": {},
   "outputs": [],
   "source": []
  }
 ],
 "metadata": {
  "kernelspec": {
   "display_name": "Python 3 (ipykernel)",
   "language": "python",
   "name": "python3"
  },
  "language_info": {
   "codemirror_mode": {
    "name": "ipython",
    "version": 3
   },
   "file_extension": ".py",
   "mimetype": "text/x-python",
   "name": "python",
   "nbconvert_exporter": "python",
   "pygments_lexer": "ipython3",
   "version": "3.11.5"
  }
 },
 "nbformat": 4,
 "nbformat_minor": 5
}
