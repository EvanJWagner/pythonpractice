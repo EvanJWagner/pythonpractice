{
 "cells": [
  {
   "cell_type": "markdown",
   "id": "1c33e85b",
   "metadata": {},
   "source": [
    "# Chapter 5 Exercises"
   ]
  },
  {
   "cell_type": "markdown",
   "id": "04787619",
   "metadata": {},
   "source": [
    "## Algorithm Workbench - Question 1"
   ]
  },
  {
   "cell_type": "markdown",
   "id": "5ac3b4a8",
   "metadata": {},
   "source": [
    "The textbook asks us to make a function named \"times ten\" that should accept an argument and display the argument multiplied by 10."
   ]
  },
  {
   "cell_type": "code",
   "execution_count": 9,
   "id": "290d69ec",
   "metadata": {},
   "outputs": [
    {
     "name": "stdout",
     "output_type": "stream",
     "text": [
      "600\n"
     ]
    }
   ],
   "source": [
    "# Define the main function and the variables to get the final answer\n",
    "def main():\n",
    "    value = 60\n",
    "    times_ten(value)\n",
    "\n",
    "    \n",
    "# Define times_ten so the argument can be passed down to multiply by 10    \n",
    "def times_ten(number):\n",
    "    product = number * 10\n",
    "    print(product)\n",
    "    \n",
    "# Call the main function   \n",
    "main()"
   ]
  },
  {
   "cell_type": "markdown",
   "id": "234c0ff6",
   "metadata": {},
   "source": [
    "I used the \"main\" function so it would be able to be passed down to the \"times ten\" function so that once it gets ran it multiplies the argument and you can get the final answer once you call on it again."
   ]
  },
  {
   "cell_type": "markdown",
   "id": "9fbaaa53",
   "metadata": {},
   "source": [
    "## Algorithm Workbench - Question 10"
   ]
  },
  {
   "cell_type": "markdown",
   "id": "545336e4",
   "metadata": {},
   "source": [
    "The texbook asks us to make a function that asks the user for their name and then it returns it to them."
   ]
  },
  {
   "cell_type": "code",
   "execution_count": 7,
   "id": "faa90a79",
   "metadata": {},
   "outputs": [
    {
     "name": "stdout",
     "output_type": "stream",
     "text": [
      "Enter first name: Evan \n",
      "First Name is: Evan \n"
     ]
    }
   ],
   "source": [
    "# Define the function and ask the user for their first name\n",
    "def get_first_name():\n",
    "    # Ask the user for their first name\n",
    "    first_name = input(\"Enter first name: \")\n",
    "    # Store the user input \n",
    "    return first_name\n",
    "# Call the first name function and store the variable from the users input\n",
    "if __name__ == '__main__':\n",
    "    # Make sure the variable is stored and able to be returned\n",
    "    name = get_first_name()\n",
    "    # Print the user input that was stored\n",
    "    print(\"First Name is:\", name)  "
   ]
  },
  {
   "cell_type": "markdown",
   "id": "0e0c1e3e",
   "metadata": {},
   "source": [
    "I first defined the \"first name\" function so it allowed me to get the user input and then store it so I could call upon it later. I then called the first name function to which I then made sure the variable was stored. Finally, I told the function to print the user input that was stored."
   ]
  },
  {
   "cell_type": "markdown",
   "id": "741653ef",
   "metadata": {},
   "source": [
    "## Programming Exercises - Question 1"
   ]
  },
  {
   "cell_type": "markdown",
   "id": "46fb420b",
   "metadata": {},
   "source": [
    "The textbook asks us to write a program that asks the user for a distance in kilometers and then it converts it to miles."
   ]
  },
  {
   "cell_type": "code",
   "execution_count": 1,
   "id": "8e9e3553",
   "metadata": {},
   "outputs": [
    {
     "name": "stdout",
     "output_type": "stream",
     "text": [
      "Enter a distance in kilometers: 4\n",
      "4.0 kilometers is equal to 2.4856 miles\n"
     ]
    }
   ],
   "source": [
    "# State the conversion factor \n",
    "conversion_factor = 0.6214\n",
    "\n",
    "# Define the main function\n",
    "def main():\n",
    "    # Ask the user for a distance in kilometers\n",
    "    kilometers = float(input(\"Enter a distance in kilometers: \"))\n",
    "    \n",
    "    # Display the distance from the user input in miles\n",
    "    show_miles(kilometers)\n",
    "    \n",
    "# Define the show miles function that allows you to convert   \n",
    "def show_miles(km):\n",
    "    # Use the conversion factor variable to multiply the users input\n",
    "    miles = km * conversion_factor\n",
    "    \n",
    "    # Print the final calcualtion of the user input that displays the converted number\n",
    "    print(km, \"kilometers is equal to\" , miles , \"miles\") \n",
    "\n",
    "    \n",
    "main()"
   ]
  },
  {
   "cell_type": "markdown",
   "id": "b71a2390",
   "metadata": {},
   "source": [
    "I first created the variable for the conversion factor. I then defined the main function and asksed the user for a distance in kilometers. Once the user inputs a distance the function then stores the input which then gets entered in the conversion problem This uses the conversion factor variable. Finally I used the print function to state the final conversion from the users input that restates the users input and what it is equal to in miles."
   ]
  },
  {
   "cell_type": "markdown",
   "id": "9c71b047",
   "metadata": {},
   "source": [
    "## Programming Exercises - Question 16"
   ]
  },
  {
   "cell_type": "markdown",
   "id": "85be420f",
   "metadata": {},
   "source": [
    "The textbook asks us to create a boolean function that can determine wether or not the user input number is a prime number."
   ]
  },
  {
   "cell_type": "code",
   "execution_count": 20,
   "id": "d9b4a032",
   "metadata": {},
   "outputs": [],
   "source": [
    "def is_prime(n):\n",
    "    if n > 1:\n",
    "        for i in range(2,n):\n",
    "            if (n % i) == 0 :\n",
    "                return False\n",
    "                break"
   ]
  },
  {
   "cell_type": "code",
   "execution_count": null,
   "id": "05e3ced2",
   "metadata": {},
   "outputs": [],
   "source": []
  }
 ],
 "metadata": {
  "kernelspec": {
   "display_name": "Python 3 (ipykernel)",
   "language": "python",
   "name": "python3"
  },
  "language_info": {
   "codemirror_mode": {
    "name": "ipython",
    "version": 3
   },
   "file_extension": ".py",
   "mimetype": "text/x-python",
   "name": "python",
   "nbconvert_exporter": "python",
   "pygments_lexer": "ipython3",
   "version": "3.11.5"
  }
 },
 "nbformat": 4,
 "nbformat_minor": 5
}
