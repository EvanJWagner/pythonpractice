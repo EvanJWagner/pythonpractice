{
 "cells": [
  {
   "cell_type": "markdown",
   "id": "783e0a7f",
   "metadata": {},
   "source": [
    "# Chapter 9 Exercises"
   ]
  },
  {
   "cell_type": "markdown",
   "id": "ffa1d74d",
   "metadata": {},
   "source": [
    "## Programming Exercises - Question 4"
   ]
  },
  {
   "cell_type": "markdown",
   "id": "a27ea5fe",
   "metadata": {},
   "source": [
    "The textbook asks us to write a program that opens a specified text file then displays a list of all the unique words found in the file."
   ]
  },
  {
   "cell_type": "code",
   "execution_count": null,
   "id": "0c763bcb",
   "metadata": {},
   "outputs": [],
   "source": [
    "# Opening the text file and reading what is on it\n",
    "text_file = open('unique.txt', 'r')\n",
    "text = text_file.read()\n",
    "\n",
    "text = text.lower()\n",
    "words = text.split()"
   ]
  }
 ],
 "metadata": {
  "kernelspec": {
   "display_name": "Python 3 (ipykernel)",
   "language": "python",
   "name": "python3"
  },
  "language_info": {
   "codemirror_mode": {
    "name": "ipython",
    "version": 3
   },
   "file_extension": ".py",
   "mimetype": "text/x-python",
   "name": "python",
   "nbconvert_exporter": "python",
   "pygments_lexer": "ipython3",
   "version": "3.11.5"
  }
 },
 "nbformat": 4,
 "nbformat_minor": 5
}
