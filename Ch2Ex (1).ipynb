{
 "cells": [
  {
   "cell_type": "markdown",
   "id": "2011e03b",
   "metadata": {},
   "source": [
    "# Chapter 2 Exercises"
   ]
  },
  {
   "cell_type": "markdown",
   "id": "eb7d5902",
   "metadata": {},
   "source": [
    "## Algorithm Workbench - 4\n",
    "We are asked to use variables to create multiple problems"
   ]
  },
  {
   "cell_type": "code",
   "execution_count": 1,
   "id": "ca5fb76e",
   "metadata": {},
   "outputs": [],
   "source": [
    ">>> w = 5\n",
    ">>> x = 4\n",
    ">>> y = 8\n",
    ">>> z = 2"
   ]
  },
  {
   "cell_type": "markdown",
   "id": "d7be4669",
   "metadata": {},
   "source": [
    "Once I stated the code, I then made sure my code was correct and it printed each variable correctly. I printed each variable one at at time to check my code."
   ]
  },
  {
   "cell_type": "code",
   "execution_count": 2,
   "id": "1434442d",
   "metadata": {},
   "outputs": [
    {
     "name": "stdout",
     "output_type": "stream",
     "text": [
      "5\n"
     ]
    }
   ],
   "source": [
    "print(w)"
   ]
  },
  {
   "cell_type": "code",
   "execution_count": 3,
   "id": "6e0734b6",
   "metadata": {},
   "outputs": [
    {
     "name": "stdout",
     "output_type": "stream",
     "text": [
      "4\n"
     ]
    }
   ],
   "source": [
    "print(x)"
   ]
  },
  {
   "cell_type": "code",
   "execution_count": 4,
   "id": "d809391f",
   "metadata": {},
   "outputs": [
    {
     "name": "stdout",
     "output_type": "stream",
     "text": [
      "8\n"
     ]
    }
   ],
   "source": [
    "print(y)"
   ]
  },
  {
   "cell_type": "markdown",
   "id": "39bd4c49",
   "metadata": {},
   "source": [
    "I noticed in my first code check that I accidently put print(8) instead of print(y)."
   ]
  },
  {
   "cell_type": "code",
   "execution_count": 5,
   "id": "f589809a",
   "metadata": {},
   "outputs": [
    {
     "name": "stdout",
     "output_type": "stream",
     "text": [
      "2\n"
     ]
    }
   ],
   "source": [
    "print(z)"
   ]
  },
  {
   "cell_type": "markdown",
   "id": "5fae8b02",
   "metadata": {},
   "source": [
    "Now, that I have checked my original code I will now continue on with the rest of the problem.\n",
    "\n",
    "It now asks to find out some other problems that include the variables"
   ]
  },
  {
   "cell_type": "code",
   "execution_count": 6,
   "id": "84452702",
   "metadata": {},
   "outputs": [
    {
     "name": "stdout",
     "output_type": "stream",
     "text": [
      "12\n"
     ]
    }
   ],
   "source": [
    "print(x + y)"
   ]
  },
  {
   "cell_type": "code",
   "execution_count": 7,
   "id": "9fd413fa",
   "metadata": {},
   "outputs": [
    {
     "name": "stdout",
     "output_type": "stream",
     "text": [
      "4\n"
     ]
    }
   ],
   "source": [
    "print(z * 2)"
   ]
  },
  {
   "cell_type": "code",
   "execution_count": 8,
   "id": "d7a464ac",
   "metadata": {},
   "outputs": [
    {
     "name": "stdout",
     "output_type": "stream",
     "text": [
      "2.0\n"
     ]
    }
   ],
   "source": [
    "print(y / x)"
   ]
  },
  {
   "cell_type": "code",
   "execution_count": 9,
   "id": "ec84aa27",
   "metadata": {},
   "outputs": [
    {
     "name": "stdout",
     "output_type": "stream",
     "text": [
      "6\n"
     ]
    }
   ],
   "source": [
    "print(y - z)"
   ]
  },
  {
   "cell_type": "code",
   "execution_count": 11,
   "id": "4750990e",
   "metadata": {},
   "outputs": [
    {
     "name": "stdout",
     "output_type": "stream",
     "text": [
      "2\n"
     ]
    }
   ],
   "source": [
    "print(w // z)"
   ]
  },
  {
   "cell_type": "markdown",
   "id": "e8dd8c12",
   "metadata": {},
   "source": [
    "This time I just brought it out a few more cells to break up the code."
   ]
  }
 ],
 "metadata": {
  "kernelspec": {
   "display_name": "Python 3 (ipykernel)",
   "language": "python",
   "name": "python3"
  },
  "language_info": {
   "codemirror_mode": {
    "name": "ipython",
    "version": 3
   },
   "file_extension": ".py",
   "mimetype": "text/x-python",
   "name": "python",
   "nbconvert_exporter": "python",
   "pygments_lexer": "ipython3",
   "version": "3.11.5"
  }
 },
 "nbformat": 4,
 "nbformat_minor": 5
}
