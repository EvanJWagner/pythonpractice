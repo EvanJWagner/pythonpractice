{
 "cells": [
  {
   "cell_type": "markdown",
   "id": "1c33e85b",
   "metadata": {},
   "source": [
    "# Chapter 5 Exercises"
   ]
  },
  {
   "cell_type": "markdown",
   "id": "b92676f4",
   "metadata": {},
   "source": [
    "## Algorithm Workbench - Question 1"
   ]
  },
  {
   "cell_type": "markdown",
   "id": "5ac3b4a8",
   "metadata": {},
   "source": [
    "The textbook asks us to make a function named \"times ten\" that should accept an argument and display the argument multiplied by 10."
   ]
  },
  {
   "cell_type": "code",
   "execution_count": 9,
   "id": "290d69ec",
   "metadata": {},
   "outputs": [
    {
     "name": "stdout",
     "output_type": "stream",
     "text": [
      "600\n"
     ]
    }
   ],
   "source": [
    "# Define the main function and the variables to get the final answer\n",
    "def main():\n",
    "    value = 60\n",
    "    times_ten(value)\n",
    "\n",
    "    \n",
    "# Define times_ten so the argument can be passed down to multiply by 10    \n",
    "def times_ten(number):\n",
    "    product = number * 10\n",
    "    print(product)\n",
    "    \n",
    "# Call the main function   \n",
    "main()"
   ]
  },
  {
   "cell_type": "markdown",
   "id": "c3b0d324",
   "metadata": {},
   "source": [
    "I used the \"main\" function so it would be able to be passed down to the \"times ten\" function so that once it gets ran it multiplies the argument and you can get the final answer once you call on it again."
   ]
  },
  {
   "cell_type": "markdown",
   "id": "457be542",
   "metadata": {},
   "source": [
    "## Algorithm Workbench - Question 10"
   ]
  },
  {
   "cell_type": "markdown",
   "id": "b3d654a2",
   "metadata": {},
   "source": [
    "The texbook asks us to make a function that asks the user for their name and then it returns it to them."
   ]
  },
  {
   "cell_type": "code",
   "execution_count": 7,
   "id": "e96ba533",
   "metadata": {},
   "outputs": [
    {
     "name": "stdout",
     "output_type": "stream",
     "text": [
      "Enter first name: Evan \n",
      "First Name is: Evan \n"
     ]
    }
   ],
   "source": [
    "# Define the function and ask the user for their first name\n",
    "def get_first_name():\n",
    "    # Ask the user for their first name\n",
    "    first_name = input(\"Enter first name: \")\n",
    "    # Store the user input \n",
    "    return first_name\n",
    "# Call the first name function and store the variable from the users input\n",
    "if __name__ == '__main__':\n",
    "    # Make sure the variable is stored and able to be returned\n",
    "    name = get_first_name()\n",
    "    # Print the user input that was stored\n",
    "    print(\"First Name is:\", name)  "
   ]
  },
  {
   "cell_type": "markdown",
   "id": "58705259",
   "metadata": {},
   "source": [
    "I first defined the \"first name\" function so it allowed me to get the user input and then store it so I could call upon it later. I then called the first name function to which I then made sure the variable was stored. Finally, I told the function to print the user input that was stored."
   ]
  },
  {
   "cell_type": "markdown",
   "id": "77cb619a",
   "metadata": {},
   "source": [
    "## Programming Exercises - Question 1"
   ]
  },
  {
   "cell_type": "markdown",
   "id": "a281140e",
   "metadata": {},
   "source": [
    "The textbook asks us to write a program that asks the user for a distance in kilometers and then it converts it to miles."
   ]
  },
  {
   "cell_type": "code",
   "execution_count": 1,
   "id": "b40f0dec",
   "metadata": {},
   "outputs": [
    {
     "name": "stdout",
     "output_type": "stream",
     "text": [
      "Enter a distance in kilometers: 4\n",
      "4.0 kilometers is equal to 2.4856 miles\n"
     ]
    }
   ],
   "source": [
    "# State the conversion factor \n",
    "conversion_factor = 0.6214\n",
    "\n",
    "# Define the main function\n",
    "def main():\n",
    "    # Ask the user for a distance in kilometers\n",
    "    kilometers = float(input(\"Enter a distance in kilometers: \"))\n",
    "    \n",
    "    # Display the distance from the user input in miles\n",
    "    show_miles(kilometers)\n",
    "    \n",
    "# Define the show miles function that allows you to convert   \n",
    "def show_miles(km):\n",
    "    # Use the conversion factor variable to multiply the users input\n",
    "    miles = km * conversion_factor\n",
    "    \n",
    "    # Print the final calcualtion of the user input that displays the converted number\n",
    "    print(km, \"kilometers is equal to\" , miles , \"miles\") \n",
    "\n",
    "    \n",
    "main()"
   ]
  },
  {
   "cell_type": "markdown",
   "id": "5abf7b0b",
   "metadata": {},
   "source": [
    "I first created the variable for the conversion factor. I then defined the main function and asksed the user for a distance in kilometers. Once the user inputs a distance the function then stores the input which then gets entered in the conversion problem This uses the conversion factor variable. Finally I used the print function to state the final conversion from the users input that restates the users input and what it is equal to in miles."
   ]
  },
  {
   "cell_type": "markdown",
   "id": "8064156d",
   "metadata": {},
   "source": [
    "## Programming Exercises - Question 16"
   ]
  },
  {
   "cell_type": "markdown",
   "id": "c88eb290",
   "metadata": {},
   "source": [
    "The textbook asks us to create a boolean function that can determine wether or not the user input number is a prime number."
   ]
  },
  {
   "cell_type": "code",
   "execution_count": 22,
   "id": "a598572e",
   "metadata": {},
   "outputs": [
    {
     "name": "stdout",
     "output_type": "stream",
     "text": [
      "Enter an integer: 100\n",
      "False\n"
     ]
    }
   ],
   "source": [
    "# Define the is_prime function\n",
    "def is_prime(n):\n",
    "    # If the input is greater than 1 for i in range of 2 to n\n",
    "    if n > 1:\n",
    "        for i in range(2,n):\n",
    "            if (n % i) == 0 :\n",
    "                # If it meets these requirements the function will return false and end\n",
    "                return False\n",
    "                break\n",
    "        # If not than the function will return true meaning then user input is a prime number\n",
    "        else:\n",
    "            return True\n",
    "\n",
    "    else:\n",
    "        return False\n",
    "# Define the variable \"n\" as the user input to see if it is prime or not\n",
    "n = int(input(\"Enter an integer: \"))\n",
    "# Print the number that was input by user and print if it is a prime number or not\n",
    "print(is_prime(n))"
   ]
  },
  {
   "cell_type": "markdown",
   "id": "fbc8e0c9",
   "metadata": {},
   "source": [
    "I first defined the \"is_prime\" function to make sure that the users input could be stored and eventually figured out to be prime or not. I then put in the requirements so that the code can figure out if the user input is prime. Which after the number is figured out to be prime or not the function will either return false or true depending on if it was prime or not. At the bottom I also made sure to define the variable n so that it could be used as the user input in the code. Then finally I told the code to print the user input number and wether it is prime or is not prime."
   ]
  },
  {
   "cell_type": "markdown",
   "id": "c10631e8",
   "metadata": {},
   "source": [
    "## Programming Exercises - Question 17 "
   ]
  },
  {
   "cell_type": "markdown",
   "id": "c0c0acdb",
   "metadata": {},
   "source": [
    "The textbook asks us to use the \"is_prime\" function from above and figure out the rest of the prime numbers between 1-100."
   ]
  },
  {
   "cell_type": "code",
   "execution_count": 28,
   "id": "a5783a31",
   "metadata": {
    "scrolled": false
   },
   "outputs": [
    {
     "name": "stdout",
     "output_type": "stream",
     "text": [
      "These are the prime numbers between 1 and 100\n",
      "3 is prime\n",
      "5 is prime\n",
      "7 is prime\n",
      "9 is prime\n",
      "11 is prime\n",
      "13 is prime\n",
      "15 is prime\n",
      "17 is prime\n",
      "19 is prime\n",
      "21 is prime\n",
      "23 is prime\n",
      "25 is prime\n",
      "27 is prime\n",
      "29 is prime\n",
      "31 is prime\n",
      "33 is prime\n",
      "35 is prime\n",
      "37 is prime\n",
      "39 is prime\n",
      "41 is prime\n",
      "43 is prime\n",
      "45 is prime\n",
      "47 is prime\n",
      "49 is prime\n",
      "51 is prime\n",
      "53 is prime\n",
      "55 is prime\n",
      "57 is prime\n",
      "59 is prime\n",
      "61 is prime\n",
      "63 is prime\n",
      "65 is prime\n",
      "67 is prime\n",
      "69 is prime\n",
      "71 is prime\n",
      "73 is prime\n",
      "75 is prime\n",
      "77 is prime\n",
      "79 is prime\n",
      "81 is prime\n",
      "83 is prime\n",
      "85 is prime\n",
      "87 is prime\n",
      "89 is prime\n",
      "91 is prime\n",
      "93 is prime\n",
      "95 is prime\n",
      "97 is prime\n",
      "99 is prime\n"
     ]
    }
   ],
   "source": [
    "# Define the main function\n",
    "def main():\n",
    "\n",
    "    # Tell the user what the function is doing\n",
    "    print(\"These are the prime numbers between 1 and 100\")\n",
    "    \n",
    "    # Go through all the numbers in this range\n",
    "    for num in range (1, 101):\n",
    "        \n",
    "        # Call the is_prime function\n",
    "        if (is_prime(num)):\n",
    "            # If the number from the function is prime print \"is prime\"\n",
    "            print (num , \"is prime\")\n",
    "            \n",
    "# Define the \"is_prime\" function          \n",
    "def is_prime(loop): \n",
    "    \n",
    "    # Create a loop that goes through all the numbers in the range to figure out if they are prime \n",
    "    for x in range (2, loop):\n",
    "        \n",
    "        # Check to see if the numbers in the range are divisible by any of the numbers\n",
    "        if (loop % x) == 0:\n",
    "           # If the numbers are divisible return false\n",
    "            return False\n",
    "\n",
    "        # If the numbers are not divisible that means the numbers are prime and return true\n",
    "        else: \n",
    "            return True\n",
    " \n",
    "main()"
   ]
  },
  {
   "cell_type": "markdown",
   "id": "6d8489b8",
   "metadata": {},
   "source": [
    "I first defined the main function. I then told the user what was going to printed once the prime number have been figured out. Next I laid out the range of numbers and used the \"is_prime\" function to find out wether or not the numbers in the range are prime. Next I created a loop that checks the numbers in the range if they are divisible by any of the numbers. If they are the program prints false meaning they are not prime, if true the program prints true resulting with all the prime numbers betweem 1-100."
   ]
  },
  {
   "cell_type": "code",
   "execution_count": null,
   "id": "b4b7beaa",
   "metadata": {},
   "outputs": [],
   "source": []
  }
 ],
 "metadata": {
  "kernelspec": {
   "display_name": "Python 3 (ipykernel)",
   "language": "python",
   "name": "python3"
  },
  "language_info": {
   "codemirror_mode": {
    "name": "ipython",
    "version": 3
   },
   "file_extension": ".py",
   "mimetype": "text/x-python",
   "name": "python",
   "nbconvert_exporter": "python",
   "pygments_lexer": "ipython3",
   "version": "3.11.5"
  }
 },
 "nbformat": 4,
 "nbformat_minor": 5
}
